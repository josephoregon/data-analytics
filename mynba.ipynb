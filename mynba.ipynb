{
 "cells": [
  {
   "cell_type": "markdown",
   "metadata": {},
   "source": [
    "# Module Code"
   ]
  },
  {
   "cell_type": "code",
   "execution_count": 1,
   "metadata": {},
   "outputs": [],
   "source": [
    "import pandas as pd\n",
    "import csv"
   ]
  },
  {
   "cell_type": "code",
   "execution_count": 2,
   "metadata": {},
   "outputs": [],
   "source": [
    "plyr_info = pd.read_csv('/Users/josephrosas/Documents/2education/2_py/finalproject/player_stats.csv')\n",
    "team_stats = pd.read_csv('/Users/josephrosas/Documents/2education/2_py/finalproject/team_stats.csv')\n",
    "plyr_sal = pd.read_csv('/Users/josephrosas/Documents/2education/2_py/finalproject/player_salary.csv')"
   ]
  },
  {
   "cell_type": "markdown",
   "metadata": {},
   "source": [
    "# Classes | Modules"
   ]
  },
  {
   "cell_type": "code",
   "execution_count": 3,
   "metadata": {
    "code_folding": []
   },
   "outputs": [],
   "source": [
    "# NBA Player Functions\n",
    "\n",
    "\"\"\"\n",
    "Use Full Complete Names (Mason Plumlee, Donovan Mitchell, LeBron James, etc.)\n",
    "\"\"\"\n",
    "class PlayerInfo:\n",
    "\n",
    "    def playerDetails(full_name):\n",
    "\n",
    "        info = plyr_info[(plyr_info['NAME'] == full_name)]\n",
    "\n",
    "        return info\n",
    "\n",
    "\n",
    "    def playerStat(full_name, column):\n",
    "\n",
    "        info = plyr_info[(plyr_info['NAME'] == full_name)]\n",
    "        name_stat = info[[column]]\n",
    "\n",
    "        return name_stat\n",
    "\n",
    "\n",
    "    def playerSalary(full_name):\n",
    "\n",
    "        salary = plyr_sal[(plyr_sal['PLAYER'] == full_name)]\n",
    "        name_salary = salary[['SALARY']]\n",
    "\n",
    "        return name_salary"
   ]
  },
  {
   "cell_type": "code",
   "execution_count": 4,
   "metadata": {
    "code_folding": []
   },
   "outputs": [],
   "source": [
    "# NBA League Stats\n",
    "\n",
    "\"\"\"\n",
    "Use Feature (column) Names (FT%, 3P%, 3PM, STL, BLK, etc.)\n",
    "\"\"\"\n",
    "\n",
    "class LeagueStats:\n",
    "    \n",
    "    def playerAvg(column):\n",
    "        average = plyr_info[column].mean()\n",
    "\n",
    "        return average\n",
    "\n",
    "    \n",
    "    def aboveAvg(column, column2):\n",
    "        above_average = plyr_info[(plyr_info[column] > column2)].sort_values(by=[column],ascending=False)\n",
    "\n",
    "        name_avg_only = above_average[['NAME', column]]\n",
    "\n",
    "        return name_avg_only"
   ]
  },
  {
   "cell_type": "markdown",
   "metadata": {},
   "source": [
    "# Functions"
   ]
  },
  {
   "cell_type": "code",
   "execution_count": 5,
   "metadata": {
    "code_folding": []
   },
   "outputs": [],
   "source": [
    "# NBA Team Functions\n",
    "\n",
    "\"\"\"\n",
    "Use Team Names (blazers, sixers, knicks, jazz, etc.)\n",
    "\"\"\"\n",
    "\n",
    "def teamRoster(team_name):\n",
    "    \n",
    "    roster = team_name[['NAME', 'POS', 'HT', 'WT', 'AGE', 'EXP']]\n",
    "    \n",
    "    return roster"
   ]
  },
  {
   "cell_type": "code",
   "execution_count": null,
   "metadata": {},
   "outputs": [],
   "source": []
  }
 ],
 "metadata": {
  "kernelspec": {
   "display_name": "Python 3",
   "language": "python",
   "name": "python3"
  },
  "language_info": {
   "codemirror_mode": {
    "name": "ipython",
    "version": 3
   },
   "file_extension": ".py",
   "mimetype": "text/x-python",
   "name": "python",
   "nbconvert_exporter": "python",
   "pygments_lexer": "ipython3",
   "version": "3.6.4"
  }
 },
 "nbformat": 4,
 "nbformat_minor": 2
}
