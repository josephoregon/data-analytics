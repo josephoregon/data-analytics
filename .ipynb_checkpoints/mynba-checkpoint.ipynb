{
 "cells": [
  {
   "cell_type": "markdown",
   "metadata": {},
   "source": [
    "# Module Code"
   ]
  },
  {
   "cell_type": "code",
   "execution_count": 1,
   "metadata": {},
   "outputs": [],
   "source": [
    "import pandas as pd\n",
    "import csv"
   ]
  },
  {
   "cell_type": "code",
   "execution_count": 2,
   "metadata": {},
   "outputs": [],
   "source": [
    "player_stats = pd.read_csv('/Users/josephrosas/Documents/2education/2_py/finalproject/playerstats.csv')\n",
    "player_stats2 = player_stats.drop(columns=['PLAYER'])"
   ]
  },
  {
   "cell_type": "code",
   "execution_count": 3,
   "metadata": {},
   "outputs": [],
   "source": [
    "team_stats = pd.read_csv('/Users/josephrosas/Documents/2education/2_py/finalproject/teamstats.csv')\n",
    "team_stats = team_stats.drop(columns=['PF', 'PFD', '+/-'])"
   ]
  },
  {
   "cell_type": "code",
   "execution_count": 4,
   "metadata": {},
   "outputs": [],
   "source": [
    "player_details = pd.read_csv('/Users/josephrosas/Documents/2education/2_py/finalproject/playerdetails.csv', index_col=None)\n",
    "player_details['NAME'] = player_details['NAME'].str.replace('\\n', ' ')"
   ]
  },
  {
   "cell_type": "code",
   "execution_count": 5,
   "metadata": {},
   "outputs": [],
   "source": [
    "player_info = player_details.join(player_stats2)"
   ]
  },
  {
   "cell_type": "code",
   "execution_count": 6,
   "metadata": {},
   "outputs": [],
   "source": [
    "file_name = 'playersalaries{}.csv'\n",
    "mylist = []\n",
    "\n",
    "for i in range(1, 13):\n",
    "    mylist.append(pd.read_csv(file_name.format(i)))\n",
    "    player_salaries = pd.concat(mylist)\n",
    "    player_salaries.drop(columns=['TEAM'])\n",
    "    \n",
    "player_salaries = player_salaries[player_salaries['RANK'] != 'RK']"
   ]
  },
  {
   "cell_type": "markdown",
   "metadata": {
    "heading_collapsed": true
   },
   "source": [
    "# Classes | Modules"
   ]
  },
  {
   "cell_type": "code",
   "execution_count": 7,
   "metadata": {
    "code_folding": [],
    "hidden": true
   },
   "outputs": [],
   "source": [
    "# NBA Player Functions\n",
    "\n",
    "\"\"\"\n",
    "Use Full Complete Names (Mason Plumlee, Donovan Mitchell, LeBron James, etc.)\n",
    "\"\"\"\n",
    "class PlayerInfo:\n",
    "\n",
    "    def playerDetails(full_name):\n",
    "\n",
    "        info = player_info[(player_info['NAME'] == full_name)]\n",
    "\n",
    "        return info\n",
    "\n",
    "\n",
    "    def playerStat(full_name, column):\n",
    "\n",
    "        info = player_info[(player_info['NAME'] == full_name)]\n",
    "        name_stat = info[[column]]\n",
    "\n",
    "        return name_stat\n",
    "\n",
    "\n",
    "    def playerSalary(full_name):\n",
    "\n",
    "        salary = player_salaries[(player_salaries['PLAYER'] == full_name)]\n",
    "        name_salary = salary[['SALARY']]\n",
    "\n",
    "        return name_salary"
   ]
  },
  {
   "cell_type": "code",
   "execution_count": 8,
   "metadata": {
    "code_folding": [
     0,
     36
    ],
    "hidden": true
   },
   "outputs": [],
   "source": [
    "# NBA League Stats\n",
    "\n",
    "\"\"\"\n",
    "Use Feature (column) Names (FT%, 3P%, 3PM, STL, BLK, etc.)\n",
    "\"\"\"\n",
    "\n",
    "class LeagueStats:\n",
    "    \n",
    "    def playerAvg(column):\n",
    "        average = player_info[column].mean()\n",
    "\n",
    "        return average\n",
    "\n",
    "    avg_gp = playerAvg('GP')\n",
    "    avg_age = playerAvg('AGE')\n",
    "    avg_min = playerAvg('MIN')\n",
    "    avg_pts = playerAvg('PTS')\n",
    "    avg_fgm = playerAvg('FGM')\n",
    "    avg_fga = playerAvg('FGA')\n",
    "    avg_FGper = playerAvg('FG%')\n",
    "    avg_3pm = playerAvg('3PM')\n",
    "    avg_3pa = playerAvg('3PA')\n",
    "    avg_3pper = playerAvg('3P%')\n",
    "    avg_ftm = playerAvg('FTM')\n",
    "    avg_fta = playerAvg('FTA')\n",
    "    avg_ftper = playerAvg('FT%')\n",
    "    avg_reb = playerAvg('REB')\n",
    "    avg_oreb = playerAvg('OREB')\n",
    "    avg_dreb = playerAvg('DREB')\n",
    "    avg_ast = playerAvg('AST')\n",
    "    avg_stl = playerAvg('STL')\n",
    "    avg_blk = playerAvg('BLK')\n",
    "    avg_tov = playerAvg('TOv')\n",
    "    avg_plusminus = playerAvg('+/-')\n",
    "\n",
    "\n",
    "    def aboveAvg(column, column2):\n",
    "        above_average = player_info[(player_info[column] > column2)].sort_values(by=[column],ascending=False)\n",
    "\n",
    "        name_avg_only = above_average[['NAME', column]]\n",
    "\n",
    "        return name_avg_only"
   ]
  },
  {
   "cell_type": "code",
   "execution_count": null,
   "metadata": {
    "hidden": true
   },
   "outputs": [],
   "source": []
  },
  {
   "cell_type": "markdown",
   "metadata": {
    "heading_collapsed": true
   },
   "source": [
    "# Functions"
   ]
  },
  {
   "cell_type": "code",
   "execution_count": 9,
   "metadata": {
    "code_folding": [
     6
    ],
    "hidden": true
   },
   "outputs": [],
   "source": [
    "# NBA Team Functions\n",
    "\n",
    "\"\"\"\n",
    "Use Team Names (blazers, sixers, knicks, jazz, etc.)\n",
    "\"\"\"\n",
    "\n",
    "def teamRoster(team_name):\n",
    "    \n",
    "    roster = team_name[['NAME', 'POS', 'HT', 'WT', 'AGE', 'EXP']]\n",
    "    \n",
    "    return roster"
   ]
  },
  {
   "cell_type": "code",
   "execution_count": null,
   "metadata": {
    "hidden": true
   },
   "outputs": [],
   "source": []
  },
  {
   "cell_type": "code",
   "execution_count": null,
   "metadata": {
    "hidden": true
   },
   "outputs": [],
   "source": []
  }
 ],
 "metadata": {
  "kernelspec": {
   "display_name": "Python 3",
   "language": "python",
   "name": "python3"
  },
  "language_info": {
   "codemirror_mode": {
    "name": "ipython",
    "version": 3
   },
   "file_extension": ".py",
   "mimetype": "text/x-python",
   "name": "python",
   "nbconvert_exporter": "python",
   "pygments_lexer": "ipython3",
   "version": "3.6.4"
  }
 },
 "nbformat": 4,
 "nbformat_minor": 2
}
