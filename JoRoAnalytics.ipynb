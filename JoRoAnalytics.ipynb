{
 "cells": [
  {
   "cell_type": "markdown",
   "metadata": {},
   "source": [
    "# JoRo! Analytics"
   ]
  },
  {
   "cell_type": "markdown",
   "metadata": {},
   "source": [
    "<center>\n",
    "\n",
    "<hr>\n",
    "<img src=\"http://i68.tinypic.com/16j4snn.jpg\" alt=\"Golden State Warriors Team\" width=\"800\" height=\"900\">\n",
    "<hr>\n",
    "\n",
    "<h2>\"If you torture the data long enough, it will confess.\" <sub>- Ronald Coase, Economist</sub></h2>\n",
    "<h2>\"Never confuse motion with action.\" <sub>- Benjamin Franklin</sub></h2>\n",
    "\n",
    "<hr>\n",
    "\n",
    "<img src=\"http://i63.tinypic.com/2nk728y.png\" alt=\"Portland Trail Blazers Logo\" width=\"300\" height=\"500\">\n",
    "\n",
    "</center>"
   ]
  },
  {
   "cell_type": "markdown",
   "metadata": {
    "heading_collapsed": true
   },
   "source": [
    "###### Activate .ipynb Module"
   ]
  },
  {
   "cell_type": "code",
   "execution_count": 1,
   "metadata": {
    "hidden": true
   },
   "outputs": [],
   "source": [
    "import io, os, sys, types\n",
    "from IPython import get_ipython\n",
    "from nbformat import read\n",
    "from IPython.core.interactiveshell import InteractiveShell"
   ]
  },
  {
   "cell_type": "code",
   "execution_count": 2,
   "metadata": {
    "code_folding": [
     0
    ],
    "hidden": true
   },
   "outputs": [],
   "source": [
    "def find_notebook(fullname, path=None):\n",
    "    \"\"\"find a notebook, given its fully qualified name and an optional path\n",
    "\n",
    "    This turns \"foo.bar\" into \"foo/bar.ipynb\"\n",
    "    and tries turning \"Foo_Bar\" into \"Foo Bar\" if Foo_Bar\n",
    "    does not exist.\n",
    "    \"\"\"\n",
    "    name = fullname.rsplit('.', 1)[-1]\n",
    "    if not path:\n",
    "        path = ['']\n",
    "    for d in path:\n",
    "        nb_path = os.path.join(d, name + \".ipynb\")\n",
    "        if os.path.isfile(nb_path):\n",
    "            return nb_path\n",
    "        # let import Notebook_Name find \"Notebook Name.ipynb\"\n",
    "        nb_path = nb_path.replace(\"_\", \" \")\n",
    "        if os.path.isfile(nb_path):\n",
    "            return nb_path"
   ]
  },
  {
   "cell_type": "code",
   "execution_count": 3,
   "metadata": {
    "code_folding": [
     0
    ],
    "hidden": true
   },
   "outputs": [],
   "source": [
    "class NotebookLoader(object):\n",
    "    \"\"\"Module Loader for Jupyter Notebooks\"\"\"\n",
    "    def __init__(self, path=None):\n",
    "        self.shell = InteractiveShell.instance()\n",
    "        self.path = path\n",
    "\n",
    "    def load_module(self, fullname):\n",
    "        \"\"\"import a notebook as a module\"\"\"\n",
    "        path = find_notebook(fullname, self.path)\n",
    "\n",
    "        print (\"importing Jupyter notebook from %s\" % path)\n",
    "\n",
    "        # load the notebook object\n",
    "        with io.open(path, 'r', encoding='utf-8') as f:\n",
    "            nb = read(f, 4)\n",
    "\n",
    "\n",
    "        # create the module and add it to sys.modules\n",
    "        # if name in sys.modules:\n",
    "        #    return sys.modules[name]\n",
    "        mod = types.ModuleType(fullname)\n",
    "        mod.__file__ = path\n",
    "        mod.__loader__ = self\n",
    "        mod.__dict__['get_ipython'] = get_ipython\n",
    "        sys.modules[fullname] = mod\n",
    "\n",
    "        # extra work to ensure that magics that would affect the user_ns\n",
    "        # actually affect the notebook module's ns\n",
    "        save_user_ns = self.shell.user_ns\n",
    "        self.shell.user_ns = mod.__dict__\n",
    "\n",
    "        try:\n",
    "          for cell in nb.cells:\n",
    "            if cell.cell_type == 'code':\n",
    "                # transform the input to executable Python\n",
    "                code = self.shell.input_transformer_manager.transform_cell(cell.source)\n",
    "                # run the code in themodule\n",
    "                exec(code, mod.__dict__)\n",
    "        finally:\n",
    "            self.shell.user_ns = save_user_ns\n",
    "        return mod"
   ]
  },
  {
   "cell_type": "code",
   "execution_count": 4,
   "metadata": {
    "code_folding": [
     0
    ],
    "hidden": true
   },
   "outputs": [],
   "source": [
    "class NotebookFinder(object):\n",
    "    \"\"\"Module finder that locates Jupyter Notebooks\"\"\"\n",
    "    def __init__(self):\n",
    "        self.loaders = {}\n",
    "\n",
    "    def find_module(self, fullname, path=None):\n",
    "        nb_path = find_notebook(fullname, path)\n",
    "        if not nb_path:\n",
    "            return\n",
    "\n",
    "        key = path\n",
    "        if path:\n",
    "            # lists aren't hashable\n",
    "            key = os.path.sep.join(path)\n",
    "\n",
    "        if key not in self.loaders:\n",
    "            self.loaders[key] = NotebookLoader(path)\n",
    "        return self.loaders[key]"
   ]
  },
  {
   "cell_type": "code",
   "execution_count": 5,
   "metadata": {
    "hidden": true
   },
   "outputs": [],
   "source": [
    "mynba = find_notebook('mynba')"
   ]
  },
  {
   "cell_type": "code",
   "execution_count": 6,
   "metadata": {
    "hidden": true
   },
   "outputs": [],
   "source": [
    "path = '/Users/josephrosas/Documents/2education/2_py/finalproject/'"
   ]
  },
  {
   "cell_type": "code",
   "execution_count": 7,
   "metadata": {
    "hidden": true
   },
   "outputs": [],
   "source": [
    "NotebookFinder().find_module(mynba, path)"
   ]
  },
  {
   "cell_type": "code",
   "execution_count": 8,
   "metadata": {
    "hidden": true
   },
   "outputs": [],
   "source": [
    "sys.meta_path.append(NotebookFinder())"
   ]
  },
  {
   "cell_type": "markdown",
   "metadata": {
    "heading_collapsed": true
   },
   "source": [
    "###### Import Modules"
   ]
  },
  {
   "cell_type": "code",
   "execution_count": 9,
   "metadata": {
    "hidden": true
   },
   "outputs": [],
   "source": [
    "import matplotlib.pyplot as plt\n",
    "import pandas as pd\n",
    "import numpy as np\n",
    "import time\n",
    "import collections\n",
    "import seaborn as sns\n",
    "import plotly"
   ]
  },
  {
   "cell_type": "code",
   "execution_count": 10,
   "metadata": {
    "hidden": true
   },
   "outputs": [
    {
     "name": "stdout",
     "output_type": "stream",
     "text": [
      "importing Jupyter notebook from mynba.ipynb\n"
     ]
    }
   ],
   "source": [
    "import mynba  # My Jupyter file (.ipynb) created as a module for this notebook."
   ]
  },
  {
   "cell_type": "markdown",
   "metadata": {},
   "source": [
    "# National Basketball Association (NBA) Analytics"
   ]
  },
  {
   "cell_type": "markdown",
   "metadata": {},
   "source": [
    "<div align=\"justify\">Here is my soft introduction to my NBA Analytics Python project. The datasets used in this project are results of web scraping through a popular Python module called <a href=\"http://selenium-python.readthedocs.io\">Selenium</a>. I put this module to work on sports-related websites such as <a href=\"http://www.espn.com\">ESPN.com</a> and <a href=\"https://stats.nba.com\">Stats.NBA.com</a>. This web scraping resulted in the creation of three .ipynb files. The first one is <b>\"NBA Web Scraping.ipynb\"</b> - This file contains all foundational Python (and SQL) code I organized together in order to scrap relevant data from the aforementioned websites. The second is <b>\"mynba.ipynb\"</b> - This was created for the specific intent of providing a clean file with functions, models, CSV to pandas codes and it will continue growing the more insightful analtyics results we develop.\n",
    "</div>\n",
    "\n",
    "<hr>\n",
    "<center><img src=\"http://i68.tinypic.com/2v10nz7.jpg\" alt=\"San Antonio Spurs Players with mathematics as a background.\" width=\"600\" height=\"700\" ></center>\n",
    "<hr>\n",
    "\n",
    "<b>DataFrames</b> <p>(more to come)</p>\n",
    "1. player_salaries\n",
    "2. player_info\n",
    "3. team_stats\n",
    "\n",
    "<b>Classes</b> <p>(more to come)</p>\n",
    "1. PlayerInfo\n",
    "2. LeagueStats\n",
    "\n",
    "<hr>\n",
    "<b>References For Python / SQL / Query</b>\n",
    "- https://pandas.pydata.org/pandas-docs/stable/comparison_with_sql.html\n",
    "- https://pandas.pydata.org/pandas-docs/stable/generated/pandas.read_sql_query.html#pandas.read_sql_query\n",
    "\n",
    "<hr>\n",
    "\n",
    "<b>References NBA Statistical Details</b>\n",
    "- https://stats.nba.com/leaders/?Season=2017-18&SeasonType=Regular%20Season (PLAYERS)\n",
    "- https://stats.nba.com/teams/traditional/?sort=W_PCT&dir=-1&Season=2017-18&SeasonType=Regular%20Season (TEAMS)"
   ]
  },
  {
   "cell_type": "code",
   "execution_count": 11,
   "metadata": {},
   "outputs": [],
   "source": [
    "pd.set_option('display.max_columns', None)  # Ability to view ALL columns"
   ]
  },
  {
   "cell_type": "code",
   "execution_count": 12,
   "metadata": {
    "code_folding": []
   },
   "outputs": [],
   "source": [
    "# DataFrames from a previously created (mynba.ipynb) module - still a work in progress!\n",
    "\n",
    "player_salaries = mynba.player_salaries\n",
    "player_info = mynba.player_info\n",
    "player_stats = mynba.player_stats\n",
    "playerinfo = mynba.PlayerInfo\n",
    "leaguestats = mynba.LeagueStats\n",
    "teams = mynba.team_stats"
   ]
  },
  {
   "cell_type": "code",
   "execution_count": 13,
   "metadata": {
    "code_folding": []
   },
   "outputs": [],
   "source": [
    "# Useful variables created during several exploratory stages\n",
    "\n",
    "nba_rookies = player_info[player_info['EXP'] == 'R']"
   ]
  },
  {
   "cell_type": "code",
   "execution_count": null,
   "metadata": {},
   "outputs": [],
   "source": []
  },
  {
   "cell_type": "code",
   "execution_count": null,
   "metadata": {},
   "outputs": [],
   "source": []
  },
  {
   "cell_type": "code",
   "execution_count": null,
   "metadata": {},
   "outputs": [],
   "source": []
  },
  {
   "cell_type": "markdown",
   "metadata": {},
   "source": [
    "###### Example One [ Improving Deficiencies ] "
   ]
  },
  {
   "cell_type": "code",
   "execution_count": 14,
   "metadata": {
    "code_folding": [],
    "scrolled": true
   },
   "outputs": [],
   "source": [
    "# Sort (by number of wins) top 5 and last 5 NBA teams\n",
    "\n",
    "top5 = teams.sort_values(by=['WIN'], ascending=False).head()\n",
    "bot5 = teams.sort_values(by=['WIN'], ascending=True).head()"
   ]
  },
  {
   "cell_type": "code",
   "execution_count": 15,
   "metadata": {
    "code_folding": []
   },
   "outputs": [],
   "source": [
    "# Index DataFrame to use relevant numerical data for comparison\n",
    "\n",
    "first5 = top5.iloc[:, 6:]\n",
    "last5 = bot5.iloc[:, 6:]"
   ]
  },
  {
   "cell_type": "code",
   "execution_count": 16,
   "metadata": {
    "code_folding": [],
    "scrolled": true
   },
   "outputs": [],
   "source": [
    "# Dropping (removing) additional columns that do not fit the comparison objective\n",
    "\n",
    "first5 = first5.drop(['PTS', 'BLKA', 'TOv'], axis=1)\n",
    "last5 = last5.drop(['PTS', 'BLKA', 'TOv'], axis=1)"
   ]
  },
  {
   "cell_type": "code",
   "execution_count": 17,
   "metadata": {
    "code_folding": []
   },
   "outputs": [],
   "source": [
    "# Find statistical average of best five (first5) and worst five (last5) teams\n",
    "\n",
    "top_avg = first5.mean()\n",
    "bot_avg = last5.mean()"
   ]
  },
  {
   "cell_type": "code",
   "execution_count": 18,
   "metadata": {
    "scrolled": true
   },
   "outputs": [],
   "source": [
    "df = top_avg.subtract(\n",
    "    bot_avg\n",
    ")  # Subject from each other to see what categories are higher correlated"
   ]
  },
  {
   "cell_type": "code",
   "execution_count": 19,
   "metadata": {
    "scrolled": false
   },
   "outputs": [
    {
     "data": {
      "text/plain": [
       "<matplotlib.axes._subplots.AxesSubplot at 0x10a4a7e10>"
      ]
     },
     "execution_count": 19,
     "metadata": {},
     "output_type": "execute_result"
    },
    {
     "data": {
      "image/png": "[encoded data removed]",
      "text/plain": [
       "<matplotlib.figure.Figure at 0x107227518>"
      ]
     },
     "metadata": {},
     "output_type": "display_data"
    }
   ],
   "source": [
    "df.plot(kind='bar', figsize=(12, 10), title='Average Difference')"
   ]
  },
  {
   "cell_type": "code",
   "execution_count": 20,
   "metadata": {
    "scrolled": true
   },
   "outputs": [
    {
     "data": {
      "text/html": [
       "<div>\n",
       "<style scoped>\n",
       "    .dataframe tbody tr th:only-of-type {\n",
       "        vertical-align: middle;\n",
       "    }\n",
       "\n",
       "    .dataframe tbody tr th {\n",
       "        vertical-align: top;\n",
       "    }\n",
       "\n",
       "    .dataframe thead th {\n",
       "        text-align: right;\n",
       "    }\n",
       "</style>\n",
       "<table border=\"1\" class=\"dataframe\">\n",
       "  <thead>\n",
       "    <tr style=\"text-align: right;\">\n",
       "      <th></th>\n",
       "      <th>TEAM</th>\n",
       "      <th>GP</th>\n",
       "      <th>WIN</th>\n",
       "      <th>LOSE</th>\n",
       "      <th>WIN%</th>\n",
       "      <th>MIN</th>\n",
       "      <th>PTS</th>\n",
       "      <th>FGM</th>\n",
       "      <th>FGA</th>\n",
       "      <th>FG%</th>\n",
       "      <th>3PM</th>\n",
       "      <th>3PA</th>\n",
       "      <th>3P%</th>\n",
       "      <th>FTM</th>\n",
       "      <th>FTA</th>\n",
       "      <th>FT%</th>\n",
       "      <th>OREB</th>\n",
       "      <th>DREB</th>\n",
       "      <th>REB</th>\n",
       "      <th>AST</th>\n",
       "      <th>TOv</th>\n",
       "      <th>STL</th>\n",
       "      <th>BLK</th>\n",
       "      <th>BLKA</th>\n",
       "    </tr>\n",
       "  </thead>\n",
       "  <tbody>\n",
       "    <tr>\n",
       "      <th>10</th>\n",
       "      <td>Houston Rockets</td>\n",
       "      <td>82</td>\n",
       "      <td>65</td>\n",
       "      <td>17</td>\n",
       "      <td>0.793</td>\n",
       "      <td>48.2</td>\n",
       "      <td>112.4</td>\n",
       "      <td>38.7</td>\n",
       "      <td>84.2</td>\n",
       "      <td>46.0</td>\n",
       "      <td>15.3</td>\n",
       "      <td>42.3</td>\n",
       "      <td>36.2</td>\n",
       "      <td>19.6</td>\n",
       "      <td>25.1</td>\n",
       "      <td>36.2</td>\n",
       "      <td>9.0</td>\n",
       "      <td>34.5</td>\n",
       "      <td>43.5</td>\n",
       "      <td>21.5</td>\n",
       "      <td>13.8</td>\n",
       "      <td>8.5</td>\n",
       "      <td>4.8</td>\n",
       "      <td>4.4</td>\n",
       "    </tr>\n",
       "    <tr>\n",
       "      <th>27</th>\n",
       "      <td>Toronto Raptors</td>\n",
       "      <td>82</td>\n",
       "      <td>59</td>\n",
       "      <td>23</td>\n",
       "      <td>0.720</td>\n",
       "      <td>48.4</td>\n",
       "      <td>111.7</td>\n",
       "      <td>41.3</td>\n",
       "      <td>87.4</td>\n",
       "      <td>47.2</td>\n",
       "      <td>11.8</td>\n",
       "      <td>33.0</td>\n",
       "      <td>35.8</td>\n",
       "      <td>17.3</td>\n",
       "      <td>21.8</td>\n",
       "      <td>35.8</td>\n",
       "      <td>9.8</td>\n",
       "      <td>34.2</td>\n",
       "      <td>44.0</td>\n",
       "      <td>24.3</td>\n",
       "      <td>13.4</td>\n",
       "      <td>7.6</td>\n",
       "      <td>6.1</td>\n",
       "      <td>4.9</td>\n",
       "    </tr>\n",
       "    <tr>\n",
       "      <th>9</th>\n",
       "      <td>Golden State Warriors</td>\n",
       "      <td>82</td>\n",
       "      <td>58</td>\n",
       "      <td>24</td>\n",
       "      <td>0.707</td>\n",
       "      <td>48.1</td>\n",
       "      <td>113.5</td>\n",
       "      <td>42.8</td>\n",
       "      <td>85.1</td>\n",
       "      <td>50.3</td>\n",
       "      <td>11.3</td>\n",
       "      <td>28.9</td>\n",
       "      <td>39.1</td>\n",
       "      <td>16.6</td>\n",
       "      <td>20.3</td>\n",
       "      <td>39.1</td>\n",
       "      <td>8.4</td>\n",
       "      <td>35.1</td>\n",
       "      <td>43.5</td>\n",
       "      <td>29.3</td>\n",
       "      <td>15.4</td>\n",
       "      <td>8.0</td>\n",
       "      <td>7.5</td>\n",
       "      <td>3.7</td>\n",
       "    </tr>\n",
       "    <tr>\n",
       "      <th>1</th>\n",
       "      <td>Boston Celtics</td>\n",
       "      <td>82</td>\n",
       "      <td>55</td>\n",
       "      <td>27</td>\n",
       "      <td>0.671</td>\n",
       "      <td>48.3</td>\n",
       "      <td>104.0</td>\n",
       "      <td>38.3</td>\n",
       "      <td>85.1</td>\n",
       "      <td>45.0</td>\n",
       "      <td>11.5</td>\n",
       "      <td>30.4</td>\n",
       "      <td>37.7</td>\n",
       "      <td>16.0</td>\n",
       "      <td>20.7</td>\n",
       "      <td>37.7</td>\n",
       "      <td>9.4</td>\n",
       "      <td>35.1</td>\n",
       "      <td>44.5</td>\n",
       "      <td>22.5</td>\n",
       "      <td>14.0</td>\n",
       "      <td>7.4</td>\n",
       "      <td>4.5</td>\n",
       "      <td>4.4</td>\n",
       "    </tr>\n",
       "    <tr>\n",
       "      <th>22</th>\n",
       "      <td>Philadelphia 76ers</td>\n",
       "      <td>82</td>\n",
       "      <td>52</td>\n",
       "      <td>30</td>\n",
       "      <td>0.634</td>\n",
       "      <td>48.2</td>\n",
       "      <td>109.8</td>\n",
       "      <td>40.8</td>\n",
       "      <td>86.6</td>\n",
       "      <td>47.2</td>\n",
       "      <td>11.0</td>\n",
       "      <td>29.8</td>\n",
       "      <td>36.9</td>\n",
       "      <td>17.1</td>\n",
       "      <td>22.8</td>\n",
       "      <td>36.9</td>\n",
       "      <td>10.9</td>\n",
       "      <td>36.5</td>\n",
       "      <td>47.4</td>\n",
       "      <td>27.1</td>\n",
       "      <td>16.5</td>\n",
       "      <td>8.3</td>\n",
       "      <td>5.1</td>\n",
       "      <td>5.1</td>\n",
       "    </tr>\n",
       "  </tbody>\n",
       "</table>\n",
       "</div>"
      ],
      "text/plain": [
       "                     TEAM  GP  WIN  LOSE   WIN%   MIN    PTS   FGM   FGA  \\\n",
       "10        Houston Rockets  82   65    17  0.793  48.2  112.4  38.7  84.2   \n",
       "27        Toronto Raptors  82   59    23  0.720  48.4  111.7  41.3  87.4   \n",
       "9   Golden State Warriors  82   58    24  0.707  48.1  113.5  42.8  85.1   \n",
       "1          Boston Celtics  82   55    27  0.671  48.3  104.0  38.3  85.1   \n",
       "22     Philadelphia 76ers  82   52    30  0.634  48.2  109.8  40.8  86.6   \n",
       "\n",
       "     FG%   3PM   3PA   3P%   FTM   FTA   FT%  OREB  DREB   REB   AST   TOv  \\\n",
       "10  46.0  15.3  42.3  36.2  19.6  25.1  36.2   9.0  34.5  43.5  21.5  13.8   \n",
       "27  47.2  11.8  33.0  35.8  17.3  21.8  35.8   9.8  34.2  44.0  24.3  13.4   \n",
       "9   50.3  11.3  28.9  39.1  16.6  20.3  39.1   8.4  35.1  43.5  29.3  15.4   \n",
       "1   45.0  11.5  30.4  37.7  16.0  20.7  37.7   9.4  35.1  44.5  22.5  14.0   \n",
       "22  47.2  11.0  29.8  36.9  17.1  22.8  36.9  10.9  36.5  47.4  27.1  16.5   \n",
       "\n",
       "    STL  BLK  BLKA  \n",
       "10  8.5  4.8   4.4  \n",
       "27  7.6  6.1   4.9  \n",
       "9   8.0  7.5   3.7  \n",
       "1   7.4  4.5   4.4  \n",
       "22  8.3  5.1   5.1  "
      ]
     },
     "execution_count": 20,
     "metadata": {},
     "output_type": "execute_result"
    }
   ],
   "source": [
    "top5"
   ]
  },
  {
   "cell_type": "code",
   "execution_count": 21,
   "metadata": {},
   "outputs": [
    {
     "data": {
      "text/html": [
       "<div>\n",
       "<style scoped>\n",
       "    .dataframe tbody tr th:only-of-type {\n",
       "        vertical-align: middle;\n",
       "    }\n",
       "\n",
       "    .dataframe tbody tr th {\n",
       "        vertical-align: top;\n",
       "    }\n",
       "\n",
       "    .dataframe thead th {\n",
       "        text-align: right;\n",
       "    }\n",
       "</style>\n",
       "<table border=\"1\" class=\"dataframe\">\n",
       "  <thead>\n",
       "    <tr style=\"text-align: right;\">\n",
       "      <th></th>\n",
       "      <th>TEAM</th>\n",
       "      <th>GP</th>\n",
       "      <th>WIN</th>\n",
       "      <th>LOSE</th>\n",
       "      <th>WIN%</th>\n",
       "      <th>MIN</th>\n",
       "      <th>PTS</th>\n",
       "      <th>FGM</th>\n",
       "      <th>FGA</th>\n",
       "      <th>FG%</th>\n",
       "      <th>3PM</th>\n",
       "      <th>3PA</th>\n",
       "      <th>3P%</th>\n",
       "      <th>FTM</th>\n",
       "      <th>FTA</th>\n",
       "      <th>FT%</th>\n",
       "      <th>OREB</th>\n",
       "      <th>DREB</th>\n",
       "      <th>REB</th>\n",
       "      <th>AST</th>\n",
       "      <th>TOv</th>\n",
       "      <th>STL</th>\n",
       "      <th>BLK</th>\n",
       "      <th>BLKA</th>\n",
       "    </tr>\n",
       "  </thead>\n",
       "  <tbody>\n",
       "    <tr>\n",
       "      <th>23</th>\n",
       "      <td>Phoenix Suns</td>\n",
       "      <td>82</td>\n",
       "      <td>21</td>\n",
       "      <td>61</td>\n",
       "      <td>0.256</td>\n",
       "      <td>48.1</td>\n",
       "      <td>103.9</td>\n",
       "      <td>38.5</td>\n",
       "      <td>87.1</td>\n",
       "      <td>44.2</td>\n",
       "      <td>9.3</td>\n",
       "      <td>27.9</td>\n",
       "      <td>33.4</td>\n",
       "      <td>17.7</td>\n",
       "      <td>23.9</td>\n",
       "      <td>33.4</td>\n",
       "      <td>10.3</td>\n",
       "      <td>33.9</td>\n",
       "      <td>44.1</td>\n",
       "      <td>21.3</td>\n",
       "      <td>15.7</td>\n",
       "      <td>6.9</td>\n",
       "      <td>4.5</td>\n",
       "      <td>6.0</td>\n",
       "    </tr>\n",
       "    <tr>\n",
       "      <th>14</th>\n",
       "      <td>Memphis Grizzlies</td>\n",
       "      <td>82</td>\n",
       "      <td>22</td>\n",
       "      <td>60</td>\n",
       "      <td>0.268</td>\n",
       "      <td>48.1</td>\n",
       "      <td>99.3</td>\n",
       "      <td>36.7</td>\n",
       "      <td>82.8</td>\n",
       "      <td>44.4</td>\n",
       "      <td>9.2</td>\n",
       "      <td>26.2</td>\n",
       "      <td>35.2</td>\n",
       "      <td>16.6</td>\n",
       "      <td>21.1</td>\n",
       "      <td>35.2</td>\n",
       "      <td>9.5</td>\n",
       "      <td>31.0</td>\n",
       "      <td>40.5</td>\n",
       "      <td>21.5</td>\n",
       "      <td>15.0</td>\n",
       "      <td>7.5</td>\n",
       "      <td>4.8</td>\n",
       "      <td>5.1</td>\n",
       "    </tr>\n",
       "    <tr>\n",
       "      <th>6</th>\n",
       "      <td>Dallas Mavericks</td>\n",
       "      <td>82</td>\n",
       "      <td>24</td>\n",
       "      <td>58</td>\n",
       "      <td>0.293</td>\n",
       "      <td>48.3</td>\n",
       "      <td>102.3</td>\n",
       "      <td>38.1</td>\n",
       "      <td>85.9</td>\n",
       "      <td>44.4</td>\n",
       "      <td>11.8</td>\n",
       "      <td>32.8</td>\n",
       "      <td>36.0</td>\n",
       "      <td>14.2</td>\n",
       "      <td>18.7</td>\n",
       "      <td>36.0</td>\n",
       "      <td>8.1</td>\n",
       "      <td>33.1</td>\n",
       "      <td>41.3</td>\n",
       "      <td>22.7</td>\n",
       "      <td>12.3</td>\n",
       "      <td>7.0</td>\n",
       "      <td>3.8</td>\n",
       "      <td>4.5</td>\n",
       "    </tr>\n",
       "    <tr>\n",
       "      <th>0</th>\n",
       "      <td>Atlanta Hawks</td>\n",
       "      <td>82</td>\n",
       "      <td>24</td>\n",
       "      <td>58</td>\n",
       "      <td>0.293</td>\n",
       "      <td>48.1</td>\n",
       "      <td>103.4</td>\n",
       "      <td>38.2</td>\n",
       "      <td>85.5</td>\n",
       "      <td>44.6</td>\n",
       "      <td>11.2</td>\n",
       "      <td>31.0</td>\n",
       "      <td>36.0</td>\n",
       "      <td>15.8</td>\n",
       "      <td>20.2</td>\n",
       "      <td>36.0</td>\n",
       "      <td>9.1</td>\n",
       "      <td>32.8</td>\n",
       "      <td>41.9</td>\n",
       "      <td>23.7</td>\n",
       "      <td>15.6</td>\n",
       "      <td>7.8</td>\n",
       "      <td>4.2</td>\n",
       "      <td>5.5</td>\n",
       "    </tr>\n",
       "    <tr>\n",
       "      <th>21</th>\n",
       "      <td>Orlando Magic</td>\n",
       "      <td>82</td>\n",
       "      <td>25</td>\n",
       "      <td>57</td>\n",
       "      <td>0.305</td>\n",
       "      <td>48.1</td>\n",
       "      <td>103.4</td>\n",
       "      <td>38.8</td>\n",
       "      <td>85.9</td>\n",
       "      <td>45.2</td>\n",
       "      <td>10.3</td>\n",
       "      <td>29.3</td>\n",
       "      <td>35.1</td>\n",
       "      <td>15.5</td>\n",
       "      <td>20.5</td>\n",
       "      <td>35.1</td>\n",
       "      <td>8.8</td>\n",
       "      <td>32.8</td>\n",
       "      <td>41.6</td>\n",
       "      <td>23.4</td>\n",
       "      <td>14.5</td>\n",
       "      <td>7.6</td>\n",
       "      <td>4.9</td>\n",
       "      <td>4.9</td>\n",
       "    </tr>\n",
       "  </tbody>\n",
       "</table>\n",
       "</div>"
      ],
      "text/plain": [
       "                 TEAM  GP  WIN  LOSE   WIN%   MIN    PTS   FGM   FGA   FG%  \\\n",
       "23       Phoenix Suns  82   21    61  0.256  48.1  103.9  38.5  87.1  44.2   \n",
       "14  Memphis Grizzlies  82   22    60  0.268  48.1   99.3  36.7  82.8  44.4   \n",
       "6    Dallas Mavericks  82   24    58  0.293  48.3  102.3  38.1  85.9  44.4   \n",
       "0       Atlanta Hawks  82   24    58  0.293  48.1  103.4  38.2  85.5  44.6   \n",
       "21      Orlando Magic  82   25    57  0.305  48.1  103.4  38.8  85.9  45.2   \n",
       "\n",
       "     3PM   3PA   3P%   FTM   FTA   FT%  OREB  DREB   REB   AST   TOv  STL  \\\n",
       "23   9.3  27.9  33.4  17.7  23.9  33.4  10.3  33.9  44.1  21.3  15.7  6.9   \n",
       "14   9.2  26.2  35.2  16.6  21.1  35.2   9.5  31.0  40.5  21.5  15.0  7.5   \n",
       "6   11.8  32.8  36.0  14.2  18.7  36.0   8.1  33.1  41.3  22.7  12.3  7.0   \n",
       "0   11.2  31.0  36.0  15.8  20.2  36.0   9.1  32.8  41.9  23.7  15.6  7.8   \n",
       "21  10.3  29.3  35.1  15.5  20.5  35.1   8.8  32.8  41.6  23.4  14.5  7.6   \n",
       "\n",
       "    BLK  BLKA  \n",
       "23  4.5   6.0  \n",
       "14  4.8   5.1  \n",
       "6   3.8   4.5  \n",
       "0   4.2   5.5  \n",
       "21  4.9   4.9  "
      ]
     },
     "execution_count": 21,
     "metadata": {},
     "output_type": "execute_result"
    }
   ],
   "source": [
    "bot5"
   ]
  },
  {
   "cell_type": "code",
   "execution_count": 22,
   "metadata": {},
   "outputs": [
    {
     "data": {
      "text/plain": [
       "3PA    3.44\n",
       "dtype: float64"
      ]
     },
     "execution_count": 22,
     "metadata": {},
     "output_type": "execute_result"
    }
   ],
   "source": [
    "top_avg[['3PA']] - bot_avg[['3PA']]"
   ]
  },
  {
   "cell_type": "code",
   "execution_count": 23,
   "metadata": {},
   "outputs": [
    {
     "data": {
      "text/plain": [
       "REB    2.7\n",
       "dtype: float64"
      ]
     },
     "execution_count": 23,
     "metadata": {},
     "output_type": "execute_result"
    }
   ],
   "source": [
    "top_avg[['REB']] - bot_avg[['REB']]"
   ]
  },
  {
   "cell_type": "code",
   "execution_count": 24,
   "metadata": {},
   "outputs": [],
   "source": [
    "suns_options = player_info[(player_info['3PA'] > 3.44) & (player_info['REB'] > 2.7)]"
   ]
  },
  {
   "cell_type": "code",
   "execution_count": null,
   "metadata": {},
   "outputs": [],
   "source": [
    "suns_options[['NAME'],'EXP]]"
   ]
  },
  {
   "cell_type": "code",
   "execution_count": null,
   "metadata": {},
   "outputs": [],
   "source": []
  },
  {
   "cell_type": "code",
   "execution_count": null,
   "metadata": {},
   "outputs": [],
   "source": []
  },
  {
   "cell_type": "code",
   "execution_count": null,
   "metadata": {},
   "outputs": [],
   "source": []
  },
  {
   "cell_type": "markdown",
   "metadata": {},
   "source": [
    "###### Example Two"
   ]
  },
  {
   "cell_type": "code",
   "execution_count": null,
   "metadata": {},
   "outputs": [],
   "source": []
  },
  {
   "cell_type": "code",
   "execution_count": null,
   "metadata": {},
   "outputs": [],
   "source": []
  },
  {
   "cell_type": "code",
   "execution_count": null,
   "metadata": {},
   "outputs": [],
   "source": []
  },
  {
   "cell_type": "code",
   "execution_count": null,
   "metadata": {},
   "outputs": [],
   "source": []
  }
 ],
 "metadata": {
  "gist": {
   "data": {
    "description": "Documents/2education/2_py/finalproject/JoRoAnalytics.ipynb",
    "public": false
   },
   "id": ""
  },
  "kernelspec": {
   "display_name": "Python 3",
   "language": "python",
   "name": "python3"
  },
  "language_info": {
   "codemirror_mode": {
    "name": "ipython",
    "version": 3
   },
   "file_extension": ".py",
   "mimetype": "text/x-python",
   "name": "python",
   "nbconvert_exporter": "python",
   "pygments_lexer": "ipython3",
   "version": "3.6.4"
  }
 },
 "nbformat": 4,
 "nbformat_minor": 2
}
