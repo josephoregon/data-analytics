{
 "cells": [
  {
   "cell_type": "markdown",
   "metadata": {
    "heading_collapsed": true
   },
   "source": [
    "# Web Scraping Code"
   ]
  },
  {
   "cell_type": "markdown",
   "metadata": {
    "heading_collapsed": true,
    "hidden": true
   },
   "source": [
    "### [ Modules ]"
   ]
  },
  {
   "cell_type": "code",
   "execution_count": 1,
   "metadata": {
    "hidden": true
   },
   "outputs": [],
   "source": [
    "import jupyter_contrib_nbextensions\n",
    "from selenium import webdriver\n",
    "import pandas as pd\n",
    "import collections\n",
    "import time\n",
    "import csv"
   ]
  },
  {
   "cell_type": "markdown",
   "metadata": {
    "heading_collapsed": true,
    "hidden": true
   },
   "source": [
    "### [ STATS.NBA.COM ] - Player Statistics"
   ]
  },
  {
   "cell_type": "code",
   "execution_count": 2,
   "metadata": {
    "hidden": true
   },
   "outputs": [],
   "source": [
    "driver = webdriver.Chrome('/Users/josephrosas/Documents/2education/2_py/finalproject/chromedriver')\n",
    "\n",
    "driver.get('http://stats.nba.com/leaders/?Season=2017-18&SeasonType=Regular%20Season')\n",
    "time.sleep(5)"
   ]
  },
  {
   "cell_type": "code",
   "execution_count": 3,
   "metadata": {
    "code_folding": [
     2
    ],
    "hidden": true
   },
   "outputs": [
    {
     "data": {
      "text/plain": [
       "89"
      ]
     },
     "execution_count": 3,
     "metadata": {},
     "output_type": "execute_result"
    }
   ],
   "source": [
    "csv_file = open('playerstats.csv', 'w')\n",
    "writer = csv.writer(csv_file)\n",
    "writer.writerow(['PLAYER', 'GP', 'MIN', 'PTS', 'FGM', 'FGA', \n",
    "                 'FG%', '3PM', '3PA', '3P%', 'FTM', 'FTA', 'FT%', 'OREB',\n",
    "                 'DREB', 'REB', 'AST', 'STL', 'BLK', 'TOv', '+/-'])"
   ]
  },
  {
   "cell_type": "code",
   "execution_count": 4,
   "metadata": {
    "code_folding": [
     0
    ],
    "hidden": true
   },
   "outputs": [],
   "source": [
    "plyr_stats = driver.find_elements_by_xpath('/html/body/main/div[2]/div/div[2]/div/div/ \\\n",
    "                                           nba-stat-table/div[2]/div[1]/table/tbody/tr')"
   ]
  },
  {
   "cell_type": "code",
   "execution_count": 5,
   "metadata": {
    "code_folding": [
     3
    ],
    "hidden": true
   },
   "outputs": [],
   "source": [
    "links = []\n",
    "\n",
    "\n",
    "for ply in plyr_stats:\n",
    "    plyr_dict = collections.OrderedDict()\n",
    "    link = ply.find_element_by_xpath('.//td[2]/a').get_attribute('href')\n",
    "    Player = ply.find_element_by_xpath('.//td[2]/a').text\n",
    "    GP = ply.find_element_by_xpath('.//td[3]').text\n",
    "    Min = ply.find_element_by_xpath('.//td[4]').text\n",
    "    Pts = ply.find_element_by_xpath('.//td[5]').text\n",
    "    FGM = ply.find_element_by_xpath('.//td[6]').text\n",
    "    FGA = ply.find_element_by_xpath('.//td[7]').text\n",
    "    FGper = ply.find_element_by_xpath('.//td[8]').text\n",
    "    threePM = ply.find_element_by_xpath('.//td[9]').text\n",
    "    threePA = ply.find_element_by_xpath('.//td[10]').text\n",
    "    threePper = ply.find_element_by_xpath('.//td[11]').text\n",
    "    FTM = ply.find_element_by_xpath('.//td[12]').text\n",
    "    FTA = ply.find_element_by_xpath('.//td[13]').text\n",
    "    FTper = ply.find_element_by_xpath('.//td[14]').text\n",
    "    OReb = ply.find_element_by_xpath('.//td[15]').text\n",
    "    DReb = ply.find_element_by_xpath('.//td[16]').text\n",
    "    Reb = ply.find_element_by_xpath('.//td[17]').text\n",
    "    Ast = ply.find_element_by_xpath('.//td[18]').text\n",
    "    Stl = ply.find_element_by_xpath('.//td[19]').text\n",
    "    Blk = ply.find_element_by_xpath('.//td[20]').text\n",
    "    TOv = ply.find_element_by_xpath('.//td[21]').text\n",
    "    plusMinus = ply.find_element_by_xpath('.//td[22]').text\n",
    "    links.append([Player.replace(' ',''), link])\n",
    "    \n",
    "    plyr_dict.update({'Player': Player, 'GP': GP, 'Min': Min, 'Pts': Pts, \n",
    "                    'FGM': FGM, 'FGA': FGA, 'FGper': FGper, 'threePM': threePM, \n",
    "                    'threePA': threePA, 'threePper': threePper, 'FTM': FTM, 'FTA': FTA, \n",
    "                    'FTper': FTper, 'OReb': OReb, 'DReb': DReb, 'Reb': Reb, 'Ast': Ast, \n",
    "                    'Stl': Stl, 'Blk': Blk, 'TOv': TOv, 'plusMinus': plusMinus})\n",
    "    \n",
    "    writer.writerow(plyr_dict.values())\n",
    "\n",
    "csv_file.close()"
   ]
  },
  {
   "cell_type": "code",
   "execution_count": null,
   "metadata": {
    "hidden": true
   },
   "outputs": [],
   "source": [
    "player_stats = pd.read_csv('/Users/josephrosas/Documents/2education/2_py/finalproject/playerstats.csv')"
   ]
  },
  {
   "cell_type": "code",
   "execution_count": null,
   "metadata": {
    "code_folding": [],
    "hidden": true
   },
   "outputs": [],
   "source": [
    "#player_links = pd.DataFrame(links, columns=['Player Name', 'Profile Link'])"
   ]
  },
  {
   "cell_type": "code",
   "execution_count": null,
   "metadata": {
    "hidden": true
   },
   "outputs": [],
   "source": [
    "player_stats2 = player_stats.drop(columns=['PLAYER'])"
   ]
  },
  {
   "cell_type": "code",
   "execution_count": null,
   "metadata": {
    "hidden": true
   },
   "outputs": [],
   "source": [
    "player_stats.head()"
   ]
  },
  {
   "cell_type": "markdown",
   "metadata": {
    "heading_collapsed": true,
    "hidden": true
   },
   "source": [
    "### [ STATS.NBA.COM ] - Team Statistics"
   ]
  },
  {
   "cell_type": "code",
   "execution_count": null,
   "metadata": {
    "hidden": true
   },
   "outputs": [],
   "source": [
    "driver = webdriver.Chrome('/Users/josephrosas/Documents/2education/2_py/finalproject/chromedriver')\n",
    "\n",
    "# This URL leads to the complete 2017-2018 season.\n",
    "driver.get('http://stats.nba.com/teams/traditional/?sort=TEAM_NAME&dir=-1&Season=2017-18&SeasonType=Regular%20Season')\n",
    "time.sleep(5)"
   ]
  },
  {
   "cell_type": "code",
   "execution_count": null,
   "metadata": {
    "hidden": true
   },
   "outputs": [],
   "source": [
    "csv_file = open('teamstats.csv', 'w')\n",
    "writer = csv.writer(csv_file)\n",
    "writer.writerow(['TEAM', 'GP', 'WIN', 'LOSE', 'WIN%','MIN', 'PTS', 'FGM', 'FGA', \n",
    "                 'FG%', '3PM', '3PA', '3P%', 'FTM', 'FTA', 'FT%', 'OREB',\n",
    "                 'DREB', 'REB', 'AST', 'TOv', 'STL', 'BLK', 'BLKA', 'PF', 'PFD', '+/-'])"
   ]
  },
  {
   "cell_type": "code",
   "execution_count": null,
   "metadata": {
    "hidden": true
   },
   "outputs": [],
   "source": [
    "team_stats = driver.find_elements_by_xpath('/html/body/main/div[2]/div/div[2]/div/div/ \\\n",
    "                                           nba-stat-table/div[2]/div[1]/table/tbody/tr')"
   ]
  },
  {
   "cell_type": "code",
   "execution_count": null,
   "metadata": {
    "hidden": true
   },
   "outputs": [],
   "source": [
    "for tm in team_stats:\n",
    "    team_dict = collections.OrderedDict()\n",
    "    Team = tm.find_element_by_xpath('.//td[2]/a').text\n",
    "    GP = tm.find_element_by_xpath('.//td[3]').text\n",
    "    W = tm.find_element_by_xpath('.//td[4]').text\n",
    "    L = tm.find_element_by_xpath('.//td[5]').text\n",
    "    Wper = tm.find_element_by_xpath('.//td[6]').text\n",
    "    Min = tm.find_element_by_xpath('.//td[7]').text\n",
    "    Pts = tm.find_element_by_xpath('.//td[8]').text\n",
    "    FGM = tm.find_element_by_xpath('.//td[9]').text\n",
    "    FGA = tm.find_element_by_xpath('.//td[10]').text\n",
    "    FGper = tm.find_element_by_xpath('.//td[11]').text\n",
    "    ThreeM = tm.find_element_by_xpath('.//td[12]').text\n",
    "    ThreeA = tm.find_element_by_xpath('.//td[13]').text\n",
    "    ThreePer = tm.find_element_by_xpath('.//td[14]').text\n",
    "    Ftm = tm.find_element_by_xpath('.//td[15]').text\n",
    "    Fta = tm.find_element_by_xpath('.//td[16]').text\n",
    "    FTper = tm.find_element_by_xpath('.//td[17]').text\n",
    "    Oreb = tm.find_element_by_xpath('.//td[18]').text\n",
    "    Dreb = tm.find_element_by_xpath('.//td[19]').text\n",
    "    Reb = tm.find_element_by_xpath('.//td[20]').text\n",
    "    Ast = tm.find_element_by_xpath('.//td[21]').text\n",
    "    Tov = tm.find_element_by_xpath('.//td[22]').text\n",
    "    Stl = tm.find_element_by_xpath('.//td[23]').text\n",
    "    Blk = tm.find_element_by_xpath('.//td[24]').text\n",
    "    Blka = tm.find_element_by_xpath('.//td[25]').text\n",
    "    Pf = tm.find_element_by_xpath('.//td[26]').text\n",
    "    Pfd = tm.find_element_by_xpath('.//td[27]').text\n",
    "    PlusMinus = tm.find_element_by_xpath('.//td[28]').text\n",
    "    \n",
    "    team_dict.update({'TEAM': Team, 'GP': GP, 'W': W, 'L': L, 'WIN%': Wper, 'MIN': Min, 'PTS': Pts, 'FGM': FGM,\n",
    "                      'FGA': FGA, 'FG%': FGper, '3PM': ThreeM, '3PA': ThreeA, '3P%': ThreePer,'FTM': Ftm,'FTA': Fta,'FT%': ThreePer, 'OREB': Oreb,\n",
    "                      'DREB': Dreb, 'REB': Reb, 'AST': Ast, 'TOv': Tov, 'STL': Stl, 'BLK': Blk, 'BLKA': Blka,\n",
    "                      'PF': Pf, 'PFD': Pfd, '+/-': PlusMinus})\n",
    "    \n",
    "    writer.writerow(team_dict.values())\n",
    "\n",
    "csv_file.close()"
   ]
  },
  {
   "cell_type": "code",
   "execution_count": null,
   "metadata": {
    "hidden": true
   },
   "outputs": [],
   "source": [
    "team_stats = pd.read_csv('/Users/josephrosas/Documents/2education/2_py/finalproject/teamstats.csv')"
   ]
  },
  {
   "cell_type": "code",
   "execution_count": null,
   "metadata": {
    "hidden": true
   },
   "outputs": [],
   "source": [
    "team_stats = team_stats.drop(columns=['PF', 'PFD', '+/-'])"
   ]
  },
  {
   "cell_type": "code",
   "execution_count": null,
   "metadata": {
    "hidden": true
   },
   "outputs": [],
   "source": [
    "pd.set_option('display.max_columns', None)"
   ]
  },
  {
   "cell_type": "markdown",
   "metadata": {
    "heading_collapsed": true,
    "hidden": true
   },
   "source": [
    "### [ STATS.NBA.COM ] - Player Profile"
   ]
  },
  {
   "cell_type": "code",
   "execution_count": 6,
   "metadata": {
    "hidden": true
   },
   "outputs": [],
   "source": [
    "player_stats = pd.read_csv('/Users/josephrosas/Documents/2education/2_py/finalproject/playerstats.csv')"
   ]
  },
  {
   "cell_type": "code",
   "execution_count": 7,
   "metadata": {
    "hidden": true
   },
   "outputs": [],
   "source": [
    "player_links = pd.DataFrame(links, columns=['Player Name', 'Profile Link'])"
   ]
  },
  {
   "cell_type": "code",
   "execution_count": 8,
   "metadata": {
    "hidden": true,
    "scrolled": true
   },
   "outputs": [
    {
     "data": {
      "text/html": [
       "<div>\n",
       "<style scoped>\n",
       "    .dataframe tbody tr th:only-of-type {\n",
       "        vertical-align: middle;\n",
       "    }\n",
       "\n",
       "    .dataframe tbody tr th {\n",
       "        vertical-align: top;\n",
       "    }\n",
       "\n",
       "    .dataframe thead th {\n",
       "        text-align: right;\n",
       "    }\n",
       "</style>\n",
       "<table border=\"1\" class=\"dataframe\">\n",
       "  <thead>\n",
       "    <tr style=\"text-align: right;\">\n",
       "      <th></th>\n",
       "      <th>PLAYER</th>\n",
       "      <th>GP</th>\n",
       "      <th>MIN</th>\n",
       "      <th>PTS</th>\n",
       "      <th>FGM</th>\n",
       "      <th>FGA</th>\n",
       "      <th>FG%</th>\n",
       "      <th>3PM</th>\n",
       "      <th>3PA</th>\n",
       "      <th>3P%</th>\n",
       "      <th>...</th>\n",
       "      <th>FTA</th>\n",
       "      <th>FT%</th>\n",
       "      <th>OREB</th>\n",
       "      <th>DREB</th>\n",
       "      <th>REB</th>\n",
       "      <th>AST</th>\n",
       "      <th>STL</th>\n",
       "      <th>BLK</th>\n",
       "      <th>TOv</th>\n",
       "      <th>+/-</th>\n",
       "    </tr>\n",
       "  </thead>\n",
       "  <tbody>\n",
       "    <tr>\n",
       "      <th>0</th>\n",
       "      <td>James Harden</td>\n",
       "      <td>72</td>\n",
       "      <td>35.4</td>\n",
       "      <td>30.4</td>\n",
       "      <td>9.0</td>\n",
       "      <td>20.1</td>\n",
       "      <td>44.9</td>\n",
       "      <td>3.7</td>\n",
       "      <td>10.0</td>\n",
       "      <td>36.7</td>\n",
       "      <td>...</td>\n",
       "      <td>10.1</td>\n",
       "      <td>85.8</td>\n",
       "      <td>0.6</td>\n",
       "      <td>4.8</td>\n",
       "      <td>5.4</td>\n",
       "      <td>8.8</td>\n",
       "      <td>1.8</td>\n",
       "      <td>0.7</td>\n",
       "      <td>4.4</td>\n",
       "      <td>30.1</td>\n",
       "    </tr>\n",
       "    <tr>\n",
       "      <th>1</th>\n",
       "      <td>Anthony Davis</td>\n",
       "      <td>75</td>\n",
       "      <td>36.4</td>\n",
       "      <td>28.1</td>\n",
       "      <td>10.4</td>\n",
       "      <td>19.5</td>\n",
       "      <td>53.4</td>\n",
       "      <td>0.7</td>\n",
       "      <td>2.2</td>\n",
       "      <td>34.0</td>\n",
       "      <td>...</td>\n",
       "      <td>8.0</td>\n",
       "      <td>82.8</td>\n",
       "      <td>2.5</td>\n",
       "      <td>8.6</td>\n",
       "      <td>11.1</td>\n",
       "      <td>2.3</td>\n",
       "      <td>1.5</td>\n",
       "      <td>2.6</td>\n",
       "      <td>2.2</td>\n",
       "      <td>33.0</td>\n",
       "    </tr>\n",
       "    <tr>\n",
       "      <th>2</th>\n",
       "      <td>LeBron James</td>\n",
       "      <td>82</td>\n",
       "      <td>36.9</td>\n",
       "      <td>27.5</td>\n",
       "      <td>10.5</td>\n",
       "      <td>19.3</td>\n",
       "      <td>54.2</td>\n",
       "      <td>1.8</td>\n",
       "      <td>5.0</td>\n",
       "      <td>36.7</td>\n",
       "      <td>...</td>\n",
       "      <td>6.5</td>\n",
       "      <td>73.1</td>\n",
       "      <td>1.2</td>\n",
       "      <td>7.5</td>\n",
       "      <td>8.6</td>\n",
       "      <td>9.1</td>\n",
       "      <td>1.4</td>\n",
       "      <td>0.9</td>\n",
       "      <td>4.2</td>\n",
       "      <td>32.7</td>\n",
       "    </tr>\n",
       "    <tr>\n",
       "      <th>3</th>\n",
       "      <td>Damian Lillard</td>\n",
       "      <td>73</td>\n",
       "      <td>36.6</td>\n",
       "      <td>26.9</td>\n",
       "      <td>8.5</td>\n",
       "      <td>19.4</td>\n",
       "      <td>43.9</td>\n",
       "      <td>3.1</td>\n",
       "      <td>8.6</td>\n",
       "      <td>36.1</td>\n",
       "      <td>...</td>\n",
       "      <td>7.4</td>\n",
       "      <td>91.6</td>\n",
       "      <td>0.8</td>\n",
       "      <td>3.6</td>\n",
       "      <td>4.5</td>\n",
       "      <td>6.6</td>\n",
       "      <td>1.1</td>\n",
       "      <td>0.4</td>\n",
       "      <td>2.8</td>\n",
       "      <td>25.0</td>\n",
       "    </tr>\n",
       "    <tr>\n",
       "      <th>4</th>\n",
       "      <td>Giannis Antetokounmpo</td>\n",
       "      <td>75</td>\n",
       "      <td>36.7</td>\n",
       "      <td>26.9</td>\n",
       "      <td>9.9</td>\n",
       "      <td>18.7</td>\n",
       "      <td>52.9</td>\n",
       "      <td>0.6</td>\n",
       "      <td>1.9</td>\n",
       "      <td>30.7</td>\n",
       "      <td>...</td>\n",
       "      <td>8.5</td>\n",
       "      <td>76.0</td>\n",
       "      <td>2.1</td>\n",
       "      <td>8.0</td>\n",
       "      <td>10.0</td>\n",
       "      <td>4.8</td>\n",
       "      <td>1.5</td>\n",
       "      <td>1.4</td>\n",
       "      <td>3.0</td>\n",
       "      <td>30.7</td>\n",
       "    </tr>\n",
       "  </tbody>\n",
       "</table>\n",
       "<p>5 rows × 21 columns</p>\n",
       "</div>"
      ],
      "text/plain": [
       "                  PLAYER  GP   MIN   PTS   FGM   FGA   FG%  3PM   3PA   3P%  \\\n",
       "0           James Harden  72  35.4  30.4   9.0  20.1  44.9  3.7  10.0  36.7   \n",
       "1          Anthony Davis  75  36.4  28.1  10.4  19.5  53.4  0.7   2.2  34.0   \n",
       "2           LeBron James  82  36.9  27.5  10.5  19.3  54.2  1.8   5.0  36.7   \n",
       "3         Damian Lillard  73  36.6  26.9   8.5  19.4  43.9  3.1   8.6  36.1   \n",
       "4  Giannis Antetokounmpo  75  36.7  26.9   9.9  18.7  52.9  0.6   1.9  30.7   \n",
       "\n",
       "   ...    FTA   FT%  OREB  DREB   REB  AST  STL  BLK  TOv   +/-  \n",
       "0  ...   10.1  85.8   0.6   4.8   5.4  8.8  1.8  0.7  4.4  30.1  \n",
       "1  ...    8.0  82.8   2.5   8.6  11.1  2.3  1.5  2.6  2.2  33.0  \n",
       "2  ...    6.5  73.1   1.2   7.5   8.6  9.1  1.4  0.9  4.2  32.7  \n",
       "3  ...    7.4  91.6   0.8   3.6   4.5  6.6  1.1  0.4  2.8  25.0  \n",
       "4  ...    8.5  76.0   2.1   8.0  10.0  4.8  1.5  1.4  3.0  30.7  \n",
       "\n",
       "[5 rows x 21 columns]"
      ]
     },
     "execution_count": 8,
     "metadata": {},
     "output_type": "execute_result"
    }
   ],
   "source": [
    "player_stats.head()"
   ]
  },
  {
   "cell_type": "code",
   "execution_count": 9,
   "metadata": {
    "hidden": true
   },
   "outputs": [],
   "source": [
    "# using the \"links\" dictionary to gather individual player profiles\n",
    "all_links = [item[1] for item in links]\n",
    "\n",
    "with open('playerdetails.csv', 'w') as csv_file2:\n",
    "    writer2 = csv.writer(csv_file2)\n",
    "    writer2.writerow(['NAME', 'TEAM', 'POS', 'HT', 'WT', 'AGE', 'EXP'])\n",
    "\n",
    "    for link in all_links:\n",
    "        plyr_detail = collections.OrderedDict()\n",
    "        driver.get(link)\n",
    "        time.sleep(5)\n",
    "        Name = driver.find_element_by_xpath('/html/body/main/div[2]/div/div/div[2]/div/div/div/div[1]/div/div[2]/div/div[1]/div').text\n",
    "        Team = driver.find_element_by_xpath('/html/body/main/div[2]/div/div/div[2]/div/div/div/div[1]/div/div[2]/div/div[2]/a/span').text\n",
    "        POS = driver.find_element_by_xpath('/html/body/main/div[2]/div/div/div[2]/div/div/div/div[1]/div/div[2]/div/div[2]/span').text\n",
    "        HT = driver.find_element_by_xpath('/html/body/main/div[2]/div/div/div[2]/div/div/div/div[2]/div[2]/div[1]/a/span').text\n",
    "        WT = driver.find_element_by_xpath('/html/body/main/div[2]/div/div/div[2]/div/div/div/div[2]/div[2]/div[2]/a/span').text\n",
    "        AGE = driver.find_element_by_xpath('/html/body/main/div[2]/div/div/div[2]/div/div/div/div[2]/div[2]/div[3]/a/span[1]').text\n",
    "        EXP = driver.find_element_by_xpath('/html/body/main/div[2]/div/div/div[2]/div/div/div/div[2]/div[3]/div[3]/div[2]').text\n",
    "\n",
    "        plyr_detail.update({'Name': Name, 'Team': Team, 'POS': POS,\n",
    "                            'HT': HT, 'WT': WT, 'AGE': AGE, 'EXP': EXP})\n",
    "\n",
    "        writer2.writerow(plyr_detail.values())"
   ]
  },
  {
   "cell_type": "code",
   "execution_count": 10,
   "metadata": {
    "hidden": true,
    "scrolled": true
   },
   "outputs": [],
   "source": [
    "#import CSV to pandas dataframe\n",
    "player_details = pd.read_csv('/Users/josephrosas/Documents/2education/2_py/finalproject/playerdetails.csv', index_col=None)"
   ]
  },
  {
   "cell_type": "code",
   "execution_count": 11,
   "metadata": {
    "hidden": true
   },
   "outputs": [],
   "source": [
    "# tunned up the \"NAME\" column by removing \"\\n\" that was inserted during web scraping\n",
    "player_details['NAME'] = player_details['NAME'].str.replace('\\n', ' ')"
   ]
  },
  {
   "cell_type": "code",
   "execution_count": 14,
   "metadata": {
    "hidden": true,
    "scrolled": true
   },
   "outputs": [
    {
     "data": {
      "text/plain": [
       "False"
      ]
     },
     "execution_count": 14,
     "metadata": {},
     "output_type": "execute_result"
    }
   ],
   "source": [
    "player_details.isnull().values.any()"
   ]
  },
  {
   "cell_type": "code",
   "execution_count": 15,
   "metadata": {
    "hidden": true
   },
   "outputs": [
    {
     "data": {
      "text/html": [
       "<div>\n",
       "<style scoped>\n",
       "    .dataframe tbody tr th:only-of-type {\n",
       "        vertical-align: middle;\n",
       "    }\n",
       "\n",
       "    .dataframe tbody tr th {\n",
       "        vertical-align: top;\n",
       "    }\n",
       "\n",
       "    .dataframe thead th {\n",
       "        text-align: right;\n",
       "    }\n",
       "</style>\n",
       "<table border=\"1\" class=\"dataframe\">\n",
       "  <thead>\n",
       "    <tr style=\"text-align: right;\">\n",
       "      <th></th>\n",
       "      <th>NAME</th>\n",
       "      <th>TEAM</th>\n",
       "      <th>POS</th>\n",
       "      <th>HT</th>\n",
       "      <th>WT</th>\n",
       "      <th>AGE</th>\n",
       "      <th>EXP</th>\n",
       "    </tr>\n",
       "  </thead>\n",
       "  <tbody>\n",
       "    <tr>\n",
       "      <th>0</th>\n",
       "      <td>James Harden</td>\n",
       "      <td>HOUSTON ROCKETS</td>\n",
       "      <td>G</td>\n",
       "      <td>6-5</td>\n",
       "      <td>220 lbs</td>\n",
       "      <td>28</td>\n",
       "      <td>8 yrs</td>\n",
       "    </tr>\n",
       "    <tr>\n",
       "      <th>1</th>\n",
       "      <td>Anthony Davis</td>\n",
       "      <td>NEW ORLEANS PELICANS</td>\n",
       "      <td>F-C</td>\n",
       "      <td>6-10</td>\n",
       "      <td>253 lbs</td>\n",
       "      <td>25</td>\n",
       "      <td>5 yrs</td>\n",
       "    </tr>\n",
       "    <tr>\n",
       "      <th>2</th>\n",
       "      <td>LeBron James</td>\n",
       "      <td>CLEVELAND CAVALIERS</td>\n",
       "      <td>F-G</td>\n",
       "      <td>6-8</td>\n",
       "      <td>250 lbs</td>\n",
       "      <td>33</td>\n",
       "      <td>14 yrs</td>\n",
       "    </tr>\n",
       "    <tr>\n",
       "      <th>3</th>\n",
       "      <td>Damian Lillard</td>\n",
       "      <td>PORTLAND TRAIL BLAZERS</td>\n",
       "      <td>G</td>\n",
       "      <td>6-3</td>\n",
       "      <td>195 lbs</td>\n",
       "      <td>27</td>\n",
       "      <td>5 yrs</td>\n",
       "    </tr>\n",
       "    <tr>\n",
       "      <th>4</th>\n",
       "      <td>Giannis Antetokounmpo</td>\n",
       "      <td>MILWAUKEE BUCKS</td>\n",
       "      <td>F</td>\n",
       "      <td>6-11</td>\n",
       "      <td>222 lbs</td>\n",
       "      <td>23</td>\n",
       "      <td>4 yrs</td>\n",
       "    </tr>\n",
       "  </tbody>\n",
       "</table>\n",
       "</div>"
      ],
      "text/plain": [
       "                    NAME                    TEAM  POS    HT       WT  AGE  \\\n",
       "0           James Harden         HOUSTON ROCKETS    G   6-5  220 lbs   28   \n",
       "1          Anthony Davis    NEW ORLEANS PELICANS  F-C  6-10  253 lbs   25   \n",
       "2           LeBron James     CLEVELAND CAVALIERS  F-G   6-8  250 lbs   33   \n",
       "3         Damian Lillard  PORTLAND TRAIL BLAZERS    G   6-3  195 lbs   27   \n",
       "4  Giannis Antetokounmpo         MILWAUKEE BUCKS    F  6-11  222 lbs   23   \n",
       "\n",
       "      EXP  \n",
       "0   8 yrs  \n",
       "1   5 yrs  \n",
       "2  14 yrs  \n",
       "3   5 yrs  \n",
       "4   4 yrs  "
      ]
     },
     "execution_count": 15,
     "metadata": {},
     "output_type": "execute_result"
    }
   ],
   "source": [
    "player_details.head()"
   ]
  },
  {
   "cell_type": "markdown",
   "metadata": {
    "heading_collapsed": true,
    "hidden": true
   },
   "source": [
    "##### Combine DataFrames"
   ]
  },
  {
   "cell_type": "code",
   "execution_count": null,
   "metadata": {
    "hidden": true
   },
   "outputs": [],
   "source": [
    "player_stats2 = player_stats.drop(columns=['PLAYER'])"
   ]
  },
  {
   "cell_type": "code",
   "execution_count": null,
   "metadata": {
    "hidden": true
   },
   "outputs": [],
   "source": [
    "player_stats2.head()"
   ]
  },
  {
   "cell_type": "code",
   "execution_count": null,
   "metadata": {
    "hidden": true
   },
   "outputs": [],
   "source": [
    "player_info = player_details.join(player_stats2)"
   ]
  },
  {
   "cell_type": "code",
   "execution_count": null,
   "metadata": {
    "hidden": true
   },
   "outputs": [],
   "source": [
    "player_info.head()"
   ]
  },
  {
   "cell_type": "markdown",
   "metadata": {
    "heading_collapsed": true,
    "hidden": true
   },
   "source": [
    "### [ ESPN.COM ] - Salary"
   ]
  },
  {
   "cell_type": "markdown",
   "metadata": {
    "heading_collapsed": true,
    "hidden": true
   },
   "source": [
    "###### Scrap Top 40 Players"
   ]
  },
  {
   "cell_type": "code",
   "execution_count": null,
   "metadata": {
    "hidden": true
   },
   "outputs": [],
   "source": [
    "driver = webdriver.Chrome('/Users/josephrosas/Documents/2education/2_py/finalproject/chromedriver')\n",
    "\n",
    "driver.get('http://www.espn.com/nba/salaries/_/seasontype/3')\n",
    "time.sleep(3)\n",
    "\n",
    "csv_file = open('playersalaries.csv', 'w')\n",
    "writer = csv.writer(csv_file)\n",
    "writer.writerow(['RANK','NAME','TEAM','SALARY'])\n",
    "\n",
    "salary = driver.find_elements_by_xpath('//*[@id=\"my-players-table\"]/div/div[2]/table/tbody/tr')\n",
    "\n",
    "for sal in salary:\n",
    "    salary_dict = collections.OrderedDict()\n",
    "    Rank = sal.find_element_by_xpath('./td[1]').text\n",
    "    Name = sal.find_element_by_xpath('.//td[2]').text\n",
    "    Team = sal.find_element_by_xpath('.//td[3]').text\n",
    "    Salary = sal.find_element_by_xpath('.//td[4]').text\n",
    "    salary_dict.update({'RANK': Rank, 'NAME': Name, 'TEAM': Team, 'SALARY': Salary })\n",
    "    \n",
    "    writer.writerow(salary_dict.values())\n",
    "    \n",
    "csv_file.close()"
   ]
  },
  {
   "cell_type": "code",
   "execution_count": null,
   "metadata": {
    "hidden": true
   },
   "outputs": [],
   "source": [
    "player_salary = pd.read_csv('/Users/josephrosas/Documents/2education/2_py/finalproject/playersalaries.csv')\n",
    "player_salary = player_salary.drop([0])\n",
    "player_salary.head()"
   ]
  },
  {
   "cell_type": "code",
   "execution_count": null,
   "metadata": {
    "hidden": true
   },
   "outputs": [],
   "source": [
    "player_salary['PLAYER'] = player_salary['NAME'].str.rpartition(',')[0]\n",
    "player_salary['POSITION'] = player_salary['NAME'].str.rpartition(', ')[2].str.replace(\", \", \"\")\n",
    "player_salary = player_salary[['RANK','PLAYER', 'POSITION','TEAM', 'SALARY']]\n",
    "player_salary = player_salary.drop([11,22,33])\n",
    "player_salary"
   ]
  },
  {
   "cell_type": "markdown",
   "metadata": {
    "heading_collapsed": true,
    "hidden": true
   },
   "source": [
    "###### Scrap 41 - 80 Players"
   ]
  },
  {
   "cell_type": "code",
   "execution_count": null,
   "metadata": {
    "hidden": true
   },
   "outputs": [],
   "source": [
    "driver = webdriver.Chrome('/Users/josephrosas/Documents/2education/2_py/finalproject/chromedriver')\n",
    "\n",
    "driver.get('http://www.espn.com/nba/salaries/_/page/2/seasontype/3')\n",
    "time.sleep(3)"
   ]
  },
  {
   "cell_type": "code",
   "execution_count": null,
   "metadata": {
    "hidden": true,
    "scrolled": true
   },
   "outputs": [],
   "source": [
    "csv_file = open('playersalaries2.csv', 'w')\n",
    "writer = csv.writer(csv_file)\n",
    "writer.writerow(['RANK','NAME','TEAM','SALARY'])"
   ]
  },
  {
   "cell_type": "code",
   "execution_count": null,
   "metadata": {
    "hidden": true
   },
   "outputs": [],
   "source": [
    "salary = driver.find_elements_by_xpath('//*[@id=\"my-players-table\"]/div/div[2]/table/tbody/tr')"
   ]
  },
  {
   "cell_type": "code",
   "execution_count": null,
   "metadata": {
    "hidden": true
   },
   "outputs": [],
   "source": [
    "for sal in salary:\n",
    "    salary_dict = collections.OrderedDict()\n",
    "    Rank = sal.find_element_by_xpath('./td[1]').text\n",
    "    Name = sal.find_element_by_xpath('.//td[2]').text\n",
    "    Team = sal.find_element_by_xpath('.//td[3]').text\n",
    "    Salary = sal.find_element_by_xpath('.//td[4]').text\n",
    "    salary_dict.update({'RANK': Rank, 'NAME': Name, 'TEAM': Team, 'SALARY': Salary })\n",
    "    \n",
    "    writer.writerow(salary_dict.values())\n",
    "    \n",
    "csv_file.close()"
   ]
  },
  {
   "cell_type": "code",
   "execution_count": null,
   "metadata": {
    "hidden": true
   },
   "outputs": [],
   "source": [
    "player_salary2 = pd.read_csv('/Users/josephrosas/Documents/2education/2_py/finalproject/playersalaries2.csv')"
   ]
  },
  {
   "cell_type": "code",
   "execution_count": null,
   "metadata": {
    "hidden": true
   },
   "outputs": [],
   "source": [
    "player_salary2.head()"
   ]
  },
  {
   "cell_type": "code",
   "execution_count": null,
   "metadata": {
    "hidden": true
   },
   "outputs": [],
   "source": [
    "player_salary2 = player_salary2.drop([0])"
   ]
  },
  {
   "cell_type": "code",
   "execution_count": null,
   "metadata": {
    "hidden": true
   },
   "outputs": [],
   "source": [
    "player_salary2.head()"
   ]
  },
  {
   "cell_type": "code",
   "execution_count": null,
   "metadata": {
    "hidden": true
   },
   "outputs": [],
   "source": [
    "player_salary2['PLAYER'] = player_salary2['NAME'].str.rpartition(',')[0]\n",
    "player_salary2['POSITION'] = player_salary2['NAME'].str.rpartition(', ')[2].str.replace(\", \", \"\")\n",
    "player_salary2 = player_salary2[['RANK','PLAYER', 'POSITION','TEAM', 'SALARY']]"
   ]
  },
  {
   "cell_type": "code",
   "execution_count": null,
   "metadata": {
    "hidden": true
   },
   "outputs": [],
   "source": [
    "player_salary2 = player_salary2.drop([11,22,33])"
   ]
  },
  {
   "cell_type": "code",
   "execution_count": null,
   "metadata": {
    "hidden": true
   },
   "outputs": [],
   "source": [
    "player_salary2"
   ]
  },
  {
   "cell_type": "markdown",
   "metadata": {
    "heading_collapsed": true,
    "hidden": true
   },
   "source": [
    "###### Scrap 81 - 120 Players"
   ]
  },
  {
   "cell_type": "code",
   "execution_count": null,
   "metadata": {
    "hidden": true
   },
   "outputs": [],
   "source": [
    "driver = webdriver.Chrome('/Users/josephrosas/Documents/2education/2_py/finalproject/chromedriver')\n",
    "\n",
    "driver.get('http://www.espn.com/nba/salaries/_/page/3/seasontype/3')\n",
    "time.sleep(3)"
   ]
  },
  {
   "cell_type": "code",
   "execution_count": null,
   "metadata": {
    "hidden": true,
    "scrolled": true
   },
   "outputs": [],
   "source": [
    "csv_file = open('playersalaries3.csv', 'w')\n",
    "writer = csv.writer(csv_file)\n",
    "writer.writerow(['RANK','NAME','TEAM','SALARY'])"
   ]
  },
  {
   "cell_type": "code",
   "execution_count": null,
   "metadata": {
    "hidden": true
   },
   "outputs": [],
   "source": [
    "salary = driver.find_elements_by_xpath('//*[@id=\"my-players-table\"]/div/div[2]/table/tbody/tr')"
   ]
  },
  {
   "cell_type": "code",
   "execution_count": null,
   "metadata": {
    "hidden": true
   },
   "outputs": [],
   "source": [
    "for sal in salary:\n",
    "    salary_dict = collections.OrderedDict()\n",
    "    Rank = sal.find_element_by_xpath('./td[1]').text\n",
    "    Name = sal.find_element_by_xpath('.//td[2]').text\n",
    "    Team = sal.find_element_by_xpath('.//td[3]').text\n",
    "    Salary = sal.find_element_by_xpath('.//td[4]').text\n",
    "    salary_dict.update({'RANK': Rank, 'NAME': Name, 'TEAM': Team, 'SALARY': Salary })\n",
    "    \n",
    "    writer.writerow(salary_dict.values())\n",
    "    \n",
    "csv_file.close()"
   ]
  },
  {
   "cell_type": "code",
   "execution_count": null,
   "metadata": {
    "hidden": true
   },
   "outputs": [],
   "source": [
    "player_salary3 = pd.read_csv('/Users/josephrosas/Documents/2education/2_py/finalproject/playersalaries3.csv')"
   ]
  },
  {
   "cell_type": "code",
   "execution_count": null,
   "metadata": {
    "hidden": true
   },
   "outputs": [],
   "source": [
    "player_salary3.head()"
   ]
  },
  {
   "cell_type": "code",
   "execution_count": null,
   "metadata": {
    "hidden": true
   },
   "outputs": [],
   "source": [
    "player_salary3 = player_salary3.drop([0])"
   ]
  },
  {
   "cell_type": "code",
   "execution_count": null,
   "metadata": {
    "hidden": true
   },
   "outputs": [],
   "source": [
    "player_salary3.head()"
   ]
  },
  {
   "cell_type": "code",
   "execution_count": null,
   "metadata": {
    "hidden": true
   },
   "outputs": [],
   "source": [
    "player_salary3['PLAYER'] = player_salary3['NAME'].str.rpartition(',')[0]\n",
    "player_salary3['POSITION'] = player_salary3['NAME'].str.rpartition(', ')[2].str.replace(\", \", \"\")\n",
    "player_salary3 = player_salary3[['RANK','PLAYER', 'POSITION','TEAM', 'SALARY']]"
   ]
  },
  {
   "cell_type": "code",
   "execution_count": null,
   "metadata": {
    "hidden": true
   },
   "outputs": [],
   "source": [
    "player_salary3 = player_salary3.drop([11,22,33])"
   ]
  },
  {
   "cell_type": "code",
   "execution_count": null,
   "metadata": {
    "hidden": true,
    "scrolled": false
   },
   "outputs": [],
   "source": [
    "player_salary3"
   ]
  },
  {
   "cell_type": "markdown",
   "metadata": {
    "heading_collapsed": true,
    "hidden": true
   },
   "source": [
    "###### Scrap 121 - 160 Players"
   ]
  },
  {
   "cell_type": "code",
   "execution_count": null,
   "metadata": {
    "hidden": true
   },
   "outputs": [],
   "source": [
    "driver = webdriver.Chrome('/Users/josephrosas/Documents/2education/2_py/finalproject/chromedriver')\n",
    "\n",
    "driver.get('http://www.espn.com/nba/salaries/_/page/4/seasontype/3')\n",
    "time.sleep(3)"
   ]
  },
  {
   "cell_type": "code",
   "execution_count": null,
   "metadata": {
    "hidden": true,
    "scrolled": true
   },
   "outputs": [],
   "source": [
    "csv_file = open('playersalaries4.csv', 'w')\n",
    "writer = csv.writer(csv_file)\n",
    "writer.writerow(['RANK','NAME','TEAM','SALARY'])"
   ]
  },
  {
   "cell_type": "code",
   "execution_count": null,
   "metadata": {
    "hidden": true
   },
   "outputs": [],
   "source": [
    "salary = driver.find_elements_by_xpath('//*[@id=\"my-players-table\"]/div/div[2]/table/tbody/tr')"
   ]
  },
  {
   "cell_type": "code",
   "execution_count": null,
   "metadata": {
    "hidden": true
   },
   "outputs": [],
   "source": [
    "for sal in salary:\n",
    "    salary_dict = collections.OrderedDict()\n",
    "    Rank = sal.find_element_by_xpath('./td[1]').text\n",
    "    Name = sal.find_element_by_xpath('.//td[2]').text\n",
    "    Team = sal.find_element_by_xpath('.//td[3]').text\n",
    "    Salary = sal.find_element_by_xpath('.//td[4]').text\n",
    "    salary_dict.update({'RANK': Rank, 'NAME': Name, 'TEAM': Team, 'SALARY': Salary })\n",
    "    \n",
    "    writer.writerow(salary_dict.values())\n",
    "    \n",
    "csv_file.close()"
   ]
  },
  {
   "cell_type": "code",
   "execution_count": null,
   "metadata": {
    "hidden": true
   },
   "outputs": [],
   "source": [
    "player_salary4 = pd.read_csv('/Users/josephrosas/Documents/2education/2_py/finalproject/playersalaries4.csv')"
   ]
  },
  {
   "cell_type": "code",
   "execution_count": null,
   "metadata": {
    "hidden": true
   },
   "outputs": [],
   "source": [
    "player_salary4.head()"
   ]
  },
  {
   "cell_type": "code",
   "execution_count": null,
   "metadata": {
    "hidden": true
   },
   "outputs": [],
   "source": [
    "player_salary4 = player_salary4.drop([0])"
   ]
  },
  {
   "cell_type": "code",
   "execution_count": null,
   "metadata": {
    "hidden": true
   },
   "outputs": [],
   "source": [
    "player_salary4.head()"
   ]
  },
  {
   "cell_type": "code",
   "execution_count": null,
   "metadata": {
    "hidden": true
   },
   "outputs": [],
   "source": [
    "player_salary4['PLAYER'] = player_salary4['NAME'].str.rpartition(',')[0]\n",
    "player_salary4['POSITION'] = player_salary4['NAME'].str.rpartition(', ')[2].str.replace(\", \", \"\")\n",
    "player_salary4 = player_salary4[['RANK','PLAYER', 'POSITION','TEAM', 'SALARY']]"
   ]
  },
  {
   "cell_type": "code",
   "execution_count": null,
   "metadata": {
    "hidden": true
   },
   "outputs": [],
   "source": [
    "player_salary4 = player_salary4.drop([11,22,33])"
   ]
  },
  {
   "cell_type": "code",
   "execution_count": null,
   "metadata": {
    "hidden": true
   },
   "outputs": [],
   "source": [
    "player_salary4"
   ]
  },
  {
   "cell_type": "markdown",
   "metadata": {
    "heading_collapsed": true,
    "hidden": true
   },
   "source": [
    "###### Scrap 161 - 200 Players"
   ]
  },
  {
   "cell_type": "code",
   "execution_count": null,
   "metadata": {
    "hidden": true
   },
   "outputs": [],
   "source": [
    "driver = webdriver.Chrome('/Users/josephrosas/Documents/2education/2_py/finalproject/chromedriver')\n",
    "\n",
    "driver.get('http://www.espn.com/nba/salaries/_/page/5/seasontype/3')\n",
    "time.sleep(3)"
   ]
  },
  {
   "cell_type": "code",
   "execution_count": null,
   "metadata": {
    "hidden": true,
    "scrolled": true
   },
   "outputs": [],
   "source": [
    "csv_file = open('playersalaries5.csv', 'w')\n",
    "writer = csv.writer(csv_file)\n",
    "writer.writerow(['RANK','NAME','TEAM','SALARY'])"
   ]
  },
  {
   "cell_type": "code",
   "execution_count": null,
   "metadata": {
    "hidden": true
   },
   "outputs": [],
   "source": [
    "salary = driver.find_elements_by_xpath('//*[@id=\"my-players-table\"]/div/div[2]/table/tbody/tr')"
   ]
  },
  {
   "cell_type": "code",
   "execution_count": null,
   "metadata": {
    "hidden": true
   },
   "outputs": [],
   "source": [
    "for sal in salary:\n",
    "    salary_dict = collections.OrderedDict()\n",
    "    Rank = sal.find_element_by_xpath('./td[1]').text\n",
    "    Name = sal.find_element_by_xpath('.//td[2]').text\n",
    "    Team = sal.find_element_by_xpath('.//td[3]').text\n",
    "    Salary = sal.find_element_by_xpath('.//td[4]').text\n",
    "    salary_dict.update({'RANK': Rank, 'NAME': Name, 'TEAM': Team, 'SALARY': Salary })\n",
    "    \n",
    "    writer.writerow(salary_dict.values())\n",
    "    \n",
    "csv_file.close()"
   ]
  },
  {
   "cell_type": "code",
   "execution_count": null,
   "metadata": {
    "hidden": true
   },
   "outputs": [],
   "source": [
    "player_salary5 = pd.read_csv('/Users/josephrosas/Documents/2education/2_py/finalproject/playersalaries5.csv')"
   ]
  },
  {
   "cell_type": "code",
   "execution_count": null,
   "metadata": {
    "hidden": true
   },
   "outputs": [],
   "source": [
    "player_salary5.head()"
   ]
  },
  {
   "cell_type": "code",
   "execution_count": null,
   "metadata": {
    "hidden": true
   },
   "outputs": [],
   "source": [
    "player_salary5 = player_salary5.drop([0])"
   ]
  },
  {
   "cell_type": "code",
   "execution_count": null,
   "metadata": {
    "hidden": true
   },
   "outputs": [],
   "source": [
    "player_salary5.head()"
   ]
  },
  {
   "cell_type": "code",
   "execution_count": null,
   "metadata": {
    "hidden": true
   },
   "outputs": [],
   "source": [
    "player_salary5['PLAYER'] = player_salary5['NAME'].str.rpartition(',')[0]\n",
    "player_salary5['POSITION'] = player_salary5['NAME'].str.rpartition(', ')[2].str.replace(\", \", \"\")\n",
    "player_salary5 = player_salary5[['RANK','PLAYER', 'POSITION','TEAM', 'SALARY']]"
   ]
  },
  {
   "cell_type": "code",
   "execution_count": null,
   "metadata": {
    "hidden": true
   },
   "outputs": [],
   "source": [
    "player_salary5 = player_salary5.drop([11,22,33])"
   ]
  },
  {
   "cell_type": "code",
   "execution_count": null,
   "metadata": {
    "hidden": true
   },
   "outputs": [],
   "source": [
    "player_salary5"
   ]
  },
  {
   "cell_type": "markdown",
   "metadata": {
    "heading_collapsed": true,
    "hidden": true
   },
   "source": [
    "###### Scrap 201 - 240 Players"
   ]
  },
  {
   "cell_type": "code",
   "execution_count": null,
   "metadata": {
    "hidden": true
   },
   "outputs": [],
   "source": [
    "driver = webdriver.Chrome('/Users/josephrosas/Documents/2education/2_py/finalproject/chromedriver')\n",
    "\n",
    "driver.get('http://www.espn.com/nba/salaries/_/page/6/seasontype/3')\n",
    "time.sleep(3)"
   ]
  },
  {
   "cell_type": "code",
   "execution_count": null,
   "metadata": {
    "hidden": true,
    "scrolled": true
   },
   "outputs": [],
   "source": [
    "csv_file = open('playersalaries6.csv', 'w')\n",
    "writer = csv.writer(csv_file)\n",
    "writer.writerow(['RANK','NAME','TEAM','SALARY'])"
   ]
  },
  {
   "cell_type": "code",
   "execution_count": null,
   "metadata": {
    "hidden": true
   },
   "outputs": [],
   "source": [
    "salary = driver.find_elements_by_xpath('//*[@id=\"my-players-table\"]/div/div[2]/table/tbody/tr')"
   ]
  },
  {
   "cell_type": "code",
   "execution_count": null,
   "metadata": {
    "hidden": true
   },
   "outputs": [],
   "source": [
    "for sal in salary:\n",
    "    salary_dict = collections.OrderedDict()\n",
    "    Rank = sal.find_element_by_xpath('./td[1]').text\n",
    "    Name = sal.find_element_by_xpath('.//td[2]').text\n",
    "    Team = sal.find_element_by_xpath('.//td[3]').text\n",
    "    Salary = sal.find_element_by_xpath('.//td[4]').text\n",
    "    salary_dict.update({'RANK': Rank, 'NAME': Name, 'TEAM': Team, 'SALARY': Salary })\n",
    "    \n",
    "    writer.writerow(salary_dict.values())\n",
    "    \n",
    "csv_file.close()"
   ]
  },
  {
   "cell_type": "code",
   "execution_count": null,
   "metadata": {
    "hidden": true
   },
   "outputs": [],
   "source": [
    "player_salary6 = pd.read_csv('/Users/josephrosas/Documents/2education/2_py/finalproject/playersalaries6.csv')"
   ]
  },
  {
   "cell_type": "code",
   "execution_count": null,
   "metadata": {
    "hidden": true
   },
   "outputs": [],
   "source": [
    "player_salary6.head()"
   ]
  },
  {
   "cell_type": "code",
   "execution_count": null,
   "metadata": {
    "hidden": true
   },
   "outputs": [],
   "source": [
    "player_salary6 = player_salary6.drop([0])"
   ]
  },
  {
   "cell_type": "code",
   "execution_count": null,
   "metadata": {
    "hidden": true
   },
   "outputs": [],
   "source": [
    "player_salary6.head()"
   ]
  },
  {
   "cell_type": "code",
   "execution_count": null,
   "metadata": {
    "hidden": true
   },
   "outputs": [],
   "source": [
    "player_salary6['PLAYER'] = player_salary6['NAME'].str.rpartition(',')[0]\n",
    "player_salary6['POSITION'] = player_salary6['NAME'].str.rpartition(', ')[2].str.replace(\", \", \"\")\n",
    "player_salary6 = player_salary6[['RANK','PLAYER', 'POSITION','TEAM', 'SALARY']]"
   ]
  },
  {
   "cell_type": "code",
   "execution_count": null,
   "metadata": {
    "hidden": true
   },
   "outputs": [],
   "source": [
    "player_salary6 = player_salary6.drop([11,22,33])"
   ]
  },
  {
   "cell_type": "code",
   "execution_count": null,
   "metadata": {
    "hidden": true
   },
   "outputs": [],
   "source": [
    "player_salary6"
   ]
  },
  {
   "cell_type": "markdown",
   "metadata": {
    "heading_collapsed": true,
    "hidden": true
   },
   "source": [
    "###### Scrap 241 - 280 Players"
   ]
  },
  {
   "cell_type": "code",
   "execution_count": null,
   "metadata": {
    "hidden": true
   },
   "outputs": [],
   "source": [
    "driver = webdriver.Chrome('/Users/josephrosas/Documents/2education/2_py/finalproject/chromedriver')\n",
    "\n",
    "driver.get('http://www.espn.com/nba/salaries/_/page/7/seasontype/3')\n",
    "time.sleep(3)"
   ]
  },
  {
   "cell_type": "code",
   "execution_count": null,
   "metadata": {
    "hidden": true,
    "scrolled": true
   },
   "outputs": [],
   "source": [
    "csv_file = open('playersalaries7.csv', 'w')\n",
    "writer = csv.writer(csv_file)\n",
    "writer.writerow(['RANK','NAME','TEAM','SALARY'])"
   ]
  },
  {
   "cell_type": "code",
   "execution_count": null,
   "metadata": {
    "hidden": true
   },
   "outputs": [],
   "source": [
    "salary = driver.find_elements_by_xpath('//*[@id=\"my-players-table\"]/div/div[2]/table/tbody/tr')"
   ]
  },
  {
   "cell_type": "code",
   "execution_count": null,
   "metadata": {
    "hidden": true
   },
   "outputs": [],
   "source": [
    "for sal in salary:\n",
    "    salary_dict = collections.OrderedDict()\n",
    "    Rank = sal.find_element_by_xpath('./td[1]').text\n",
    "    Name = sal.find_element_by_xpath('.//td[2]').text\n",
    "    Team = sal.find_element_by_xpath('.//td[3]').text\n",
    "    Salary = sal.find_element_by_xpath('.//td[4]').text\n",
    "    salary_dict.update({'RANK': Rank, 'NAME': Name, 'TEAM': Team, 'SALARY': Salary })\n",
    "    \n",
    "    writer.writerow(salary_dict.values())\n",
    "    \n",
    "csv_file.close()"
   ]
  },
  {
   "cell_type": "code",
   "execution_count": null,
   "metadata": {
    "hidden": true
   },
   "outputs": [],
   "source": [
    "player_salary7 = pd.read_csv('/Users/josephrosas/Documents/2education/2_py/finalproject/playersalaries7.csv')"
   ]
  },
  {
   "cell_type": "code",
   "execution_count": null,
   "metadata": {
    "hidden": true
   },
   "outputs": [],
   "source": [
    "player_salary7.head()"
   ]
  },
  {
   "cell_type": "code",
   "execution_count": null,
   "metadata": {
    "hidden": true
   },
   "outputs": [],
   "source": [
    "player_salary7 = player_salary7.drop([0])"
   ]
  },
  {
   "cell_type": "code",
   "execution_count": null,
   "metadata": {
    "hidden": true
   },
   "outputs": [],
   "source": [
    "player_salary7.head()"
   ]
  },
  {
   "cell_type": "code",
   "execution_count": null,
   "metadata": {
    "hidden": true
   },
   "outputs": [],
   "source": [
    "player_salary7['PLAYER'] = player_salary7['NAME'].str.rpartition(',')[0]\n",
    "player_salary7['POSITION'] = player_salary7['NAME'].str.rpartition(', ')[2].str.replace(\", \", \"\")\n",
    "player_salary7 = player_salary7[['RANK','PLAYER', 'POSITION','TEAM', 'SALARY']]"
   ]
  },
  {
   "cell_type": "code",
   "execution_count": null,
   "metadata": {
    "hidden": true
   },
   "outputs": [],
   "source": [
    "player_salary7 = player_salary7.drop([11,22,33])"
   ]
  },
  {
   "cell_type": "code",
   "execution_count": null,
   "metadata": {
    "hidden": true
   },
   "outputs": [],
   "source": [
    "player_salary7"
   ]
  },
  {
   "cell_type": "markdown",
   "metadata": {
    "heading_collapsed": true,
    "hidden": true
   },
   "source": [
    "###### Scrap 281 - 320 Players"
   ]
  },
  {
   "cell_type": "code",
   "execution_count": null,
   "metadata": {
    "hidden": true
   },
   "outputs": [],
   "source": [
    "driver = webdriver.Chrome('/Users/josephrosas/Documents/2education/2_py/finalproject/chromedriver')\n",
    "\n",
    "driver.get('http://www.espn.com/nba/salaries/_/page/8/seasontype/3')\n",
    "time.sleep(3)"
   ]
  },
  {
   "cell_type": "code",
   "execution_count": null,
   "metadata": {
    "hidden": true,
    "scrolled": true
   },
   "outputs": [],
   "source": [
    "csv_file = open('playersalaries8.csv', 'w')\n",
    "writer = csv.writer(csv_file)\n",
    "writer.writerow(['RANK','NAME','TEAM','SALARY'])"
   ]
  },
  {
   "cell_type": "code",
   "execution_count": null,
   "metadata": {
    "hidden": true
   },
   "outputs": [],
   "source": [
    "salary = driver.find_elements_by_xpath('//*[@id=\"my-players-table\"]/div/div[2]/table/tbody/tr')"
   ]
  },
  {
   "cell_type": "code",
   "execution_count": null,
   "metadata": {
    "hidden": true
   },
   "outputs": [],
   "source": [
    "for sal in salary:\n",
    "    salary_dict = collections.OrderedDict()\n",
    "    Rank = sal.find_element_by_xpath('./td[1]').text\n",
    "    Name = sal.find_element_by_xpath('.//td[2]').text\n",
    "    Team = sal.find_element_by_xpath('.//td[3]').text\n",
    "    Salary = sal.find_element_by_xpath('.//td[4]').text\n",
    "    salary_dict.update({'RANK': Rank, 'NAME': Name, 'TEAM': Team, 'SALARY': Salary })\n",
    "    \n",
    "    writer.writerow(salary_dict.values())\n",
    "    \n",
    "csv_file.close()"
   ]
  },
  {
   "cell_type": "code",
   "execution_count": null,
   "metadata": {
    "hidden": true
   },
   "outputs": [],
   "source": [
    "player_salary8 = pd.read_csv('/Users/josephrosas/Documents/2education/2_py/finalproject/playersalaries8.csv')"
   ]
  },
  {
   "cell_type": "code",
   "execution_count": null,
   "metadata": {
    "hidden": true
   },
   "outputs": [],
   "source": [
    "player_salary8.head()"
   ]
  },
  {
   "cell_type": "code",
   "execution_count": null,
   "metadata": {
    "hidden": true
   },
   "outputs": [],
   "source": [
    "player_salary8 = player_salary8.drop([0])"
   ]
  },
  {
   "cell_type": "code",
   "execution_count": null,
   "metadata": {
    "hidden": true
   },
   "outputs": [],
   "source": [
    "player_salary8.head()"
   ]
  },
  {
   "cell_type": "code",
   "execution_count": null,
   "metadata": {
    "hidden": true
   },
   "outputs": [],
   "source": [
    "player_salary8['PLAYER'] = player_salary8['NAME'].str.rpartition(',')[0]\n",
    "player_salary8['POSITION'] = player_salary8['NAME'].str.rpartition(', ')[2].str.replace(\", \", \"\")\n",
    "player_salary8 = player_salary8[['RANK','PLAYER', 'POSITION','TEAM', 'SALARY']]"
   ]
  },
  {
   "cell_type": "code",
   "execution_count": null,
   "metadata": {
    "hidden": true
   },
   "outputs": [],
   "source": [
    "player_salary8 = player_salary8.drop([11,22,33])"
   ]
  },
  {
   "cell_type": "code",
   "execution_count": null,
   "metadata": {
    "hidden": true
   },
   "outputs": [],
   "source": [
    "player_salary8"
   ]
  },
  {
   "cell_type": "markdown",
   "metadata": {
    "heading_collapsed": true,
    "hidden": true
   },
   "source": [
    "###### Scrap 321 - 360 Players"
   ]
  },
  {
   "cell_type": "code",
   "execution_count": null,
   "metadata": {
    "hidden": true
   },
   "outputs": [],
   "source": [
    "driver = webdriver.Chrome('/Users/josephrosas/Documents/2education/2_py/finalproject/chromedriver')\n",
    "\n",
    "driver.get('http://www.espn.com/nba/salaries/_/page/9/seasontype/3')\n",
    "time.sleep(3)"
   ]
  },
  {
   "cell_type": "code",
   "execution_count": null,
   "metadata": {
    "hidden": true,
    "scrolled": true
   },
   "outputs": [],
   "source": [
    "csv_file = open('playersalaries9.csv', 'w')\n",
    "writer = csv.writer(csv_file)\n",
    "writer.writerow(['RANK','NAME','TEAM','SALARY'])"
   ]
  },
  {
   "cell_type": "code",
   "execution_count": null,
   "metadata": {
    "hidden": true
   },
   "outputs": [],
   "source": [
    "salary = driver.find_elements_by_xpath('//*[@id=\"my-players-table\"]/div/div[2]/table/tbody/tr')"
   ]
  },
  {
   "cell_type": "code",
   "execution_count": null,
   "metadata": {
    "hidden": true
   },
   "outputs": [],
   "source": [
    "for sal in salary:\n",
    "    salary_dict = collections.OrderedDict()\n",
    "    Rank = sal.find_element_by_xpath('./td[1]').text\n",
    "    Name = sal.find_element_by_xpath('.//td[2]').text\n",
    "    Team = sal.find_element_by_xpath('.//td[3]').text\n",
    "    Salary = sal.find_element_by_xpath('.//td[4]').text\n",
    "    salary_dict.update({'RANK': Rank, 'NAME': Name, 'TEAM': Team, 'SALARY': Salary })\n",
    "    \n",
    "    writer.writerow(salary_dict.values())\n",
    "    \n",
    "csv_file.close()"
   ]
  },
  {
   "cell_type": "code",
   "execution_count": null,
   "metadata": {
    "hidden": true
   },
   "outputs": [],
   "source": [
    "player_salary9 = pd.read_csv('/Users/josephrosas/Documents/2education/2_py/finalproject/playersalaries9.csv')"
   ]
  },
  {
   "cell_type": "code",
   "execution_count": null,
   "metadata": {
    "hidden": true
   },
   "outputs": [],
   "source": [
    "player_salary9.head()"
   ]
  },
  {
   "cell_type": "code",
   "execution_count": null,
   "metadata": {
    "hidden": true
   },
   "outputs": [],
   "source": [
    "player_salary9 = player_salary9.drop([0])"
   ]
  },
  {
   "cell_type": "code",
   "execution_count": null,
   "metadata": {
    "hidden": true
   },
   "outputs": [],
   "source": [
    "player_salary9.head()"
   ]
  },
  {
   "cell_type": "code",
   "execution_count": null,
   "metadata": {
    "hidden": true
   },
   "outputs": [],
   "source": [
    "player_salary9['PLAYER'] = player_salary9['NAME'].str.rpartition(',')[0]\n",
    "player_salary9['POSITION'] = player_salary9['NAME'].str.rpartition(', ')[2].str.replace(\", \", \"\")\n",
    "player_salary9 = player_salary9[['RANK','PLAYER', 'POSITION','TEAM', 'SALARY']]"
   ]
  },
  {
   "cell_type": "code",
   "execution_count": null,
   "metadata": {
    "hidden": true
   },
   "outputs": [],
   "source": [
    "player_salary9 = player_salary9.drop([11,22,33])"
   ]
  },
  {
   "cell_type": "code",
   "execution_count": null,
   "metadata": {
    "hidden": true
   },
   "outputs": [],
   "source": [
    "player_salary9"
   ]
  },
  {
   "cell_type": "markdown",
   "metadata": {
    "heading_collapsed": true,
    "hidden": true
   },
   "source": [
    "###### Scrap 361 - 400 Players"
   ]
  },
  {
   "cell_type": "code",
   "execution_count": null,
   "metadata": {
    "hidden": true
   },
   "outputs": [],
   "source": [
    "driver = webdriver.Chrome('/Users/josephrosas/Documents/2education/2_py/finalproject/chromedriver')\n",
    "\n",
    "driver.get('http://www.espn.com/nba/salaries/_/page/10/seasontype/3')\n",
    "time.sleep(3)"
   ]
  },
  {
   "cell_type": "code",
   "execution_count": null,
   "metadata": {
    "hidden": true,
    "scrolled": true
   },
   "outputs": [],
   "source": [
    "csv_file = open('playersalaries10.csv', 'w')\n",
    "writer = csv.writer(csv_file)\n",
    "writer.writerow(['RANK','NAME','TEAM','SALARY'])"
   ]
  },
  {
   "cell_type": "code",
   "execution_count": null,
   "metadata": {
    "hidden": true
   },
   "outputs": [],
   "source": [
    "salary = driver.find_elements_by_xpath('//*[@id=\"my-players-table\"]/div/div[2]/table/tbody/tr')"
   ]
  },
  {
   "cell_type": "code",
   "execution_count": null,
   "metadata": {
    "hidden": true
   },
   "outputs": [],
   "source": [
    "for sal in salary:\n",
    "    salary_dict = collections.OrderedDict()\n",
    "    Rank = sal.find_element_by_xpath('./td[1]').text\n",
    "    Name = sal.find_element_by_xpath('.//td[2]').text\n",
    "    Team = sal.find_element_by_xpath('.//td[3]').text\n",
    "    Salary = sal.find_element_by_xpath('.//td[4]').text\n",
    "    salary_dict.update({'RANK': Rank, 'NAME': Name, 'TEAM': Team, 'SALARY': Salary })\n",
    "    \n",
    "    writer.writerow(salary_dict.values())\n",
    "    \n",
    "csv_file.close()"
   ]
  },
  {
   "cell_type": "code",
   "execution_count": null,
   "metadata": {
    "hidden": true
   },
   "outputs": [],
   "source": [
    "player_salary10 = pd.read_csv('/Users/josephrosas/Documents/2education/2_py/finalproject/playersalaries10.csv')"
   ]
  },
  {
   "cell_type": "code",
   "execution_count": null,
   "metadata": {
    "hidden": true
   },
   "outputs": [],
   "source": [
    "player_salary10.head()"
   ]
  },
  {
   "cell_type": "code",
   "execution_count": null,
   "metadata": {
    "hidden": true
   },
   "outputs": [],
   "source": [
    "player_salary10 = player_salary10.drop([0])"
   ]
  },
  {
   "cell_type": "code",
   "execution_count": null,
   "metadata": {
    "hidden": true
   },
   "outputs": [],
   "source": [
    "player_salary10.head()"
   ]
  },
  {
   "cell_type": "code",
   "execution_count": null,
   "metadata": {
    "hidden": true
   },
   "outputs": [],
   "source": [
    "player_salary10['PLAYER'] = player_salary10['NAME'].str.rpartition(',')[0]\n",
    "player_salary10['POSITION'] = player_salary10['NAME'].str.rpartition(', ')[2].str.replace(\", \", \"\")\n",
    "player_salary10 = player_salary10[['RANK','PLAYER', 'POSITION','TEAM', 'SALARY']]"
   ]
  },
  {
   "cell_type": "code",
   "execution_count": null,
   "metadata": {
    "hidden": true
   },
   "outputs": [],
   "source": [
    "player_salary10 = player_salary10.drop([11,22,33])"
   ]
  },
  {
   "cell_type": "code",
   "execution_count": null,
   "metadata": {
    "hidden": true
   },
   "outputs": [],
   "source": [
    "player_salary10"
   ]
  },
  {
   "cell_type": "markdown",
   "metadata": {
    "heading_collapsed": true,
    "hidden": true
   },
   "source": [
    "###### Scrap 401 - 440 Players"
   ]
  },
  {
   "cell_type": "code",
   "execution_count": null,
   "metadata": {
    "hidden": true
   },
   "outputs": [],
   "source": [
    "driver = webdriver.Chrome('/Users/josephrosas/Documents/2education/2_py/finalproject/chromedriver')\n",
    "\n",
    "driver.get('http://www.espn.com/nba/salaries/_/page/11/seasontype/3')\n",
    "time.sleep(3)"
   ]
  },
  {
   "cell_type": "code",
   "execution_count": null,
   "metadata": {
    "hidden": true,
    "scrolled": true
   },
   "outputs": [],
   "source": [
    "csv_file = open('playersalaries11.csv', 'w')\n",
    "writer = csv.writer(csv_file)\n",
    "writer.writerow(['RANK','NAME','TEAM','SALARY'])"
   ]
  },
  {
   "cell_type": "code",
   "execution_count": null,
   "metadata": {
    "hidden": true
   },
   "outputs": [],
   "source": [
    "salary = driver.find_elements_by_xpath('//*[@id=\"my-players-table\"]/div/div[2]/table/tbody/tr')"
   ]
  },
  {
   "cell_type": "code",
   "execution_count": null,
   "metadata": {
    "hidden": true
   },
   "outputs": [],
   "source": [
    "for sal in salary:\n",
    "    salary_dict = collections.OrderedDict()\n",
    "    Rank = sal.find_element_by_xpath('./td[1]').text\n",
    "    Name = sal.find_element_by_xpath('.//td[2]').text\n",
    "    Team = sal.find_element_by_xpath('.//td[3]').text\n",
    "    Salary = sal.find_element_by_xpath('.//td[4]').text\n",
    "    salary_dict.update({'RANK': Rank, 'NAME': Name, 'TEAM': Team, 'SALARY': Salary })\n",
    "    \n",
    "    writer.writerow(salary_dict.values())\n",
    "    \n",
    "csv_file.close()"
   ]
  },
  {
   "cell_type": "code",
   "execution_count": null,
   "metadata": {
    "hidden": true
   },
   "outputs": [],
   "source": [
    "player_salary11 = pd.read_csv('/Users/josephrosas/Documents/2education/2_py/finalproject/playersalaries11.csv')"
   ]
  },
  {
   "cell_type": "code",
   "execution_count": null,
   "metadata": {
    "hidden": true
   },
   "outputs": [],
   "source": [
    "player_salary11.head()"
   ]
  },
  {
   "cell_type": "code",
   "execution_count": null,
   "metadata": {
    "hidden": true
   },
   "outputs": [],
   "source": [
    "player_salary11 = player_salary11.drop([0])"
   ]
  },
  {
   "cell_type": "code",
   "execution_count": null,
   "metadata": {
    "hidden": true
   },
   "outputs": [],
   "source": [
    "player_salary11.head()"
   ]
  },
  {
   "cell_type": "code",
   "execution_count": null,
   "metadata": {
    "hidden": true
   },
   "outputs": [],
   "source": [
    "player_salary11['PLAYER'] = player_salary11['NAME'].str.rpartition(',')[0]\n",
    "player_salary11['POSITION'] = player_salary11['NAME'].str.rpartition(', ')[2].str.replace(\", \", \"\")\n",
    "player_salary11 = player_salary11[['RANK','PLAYER', 'POSITION','TEAM', 'SALARY']]"
   ]
  },
  {
   "cell_type": "code",
   "execution_count": null,
   "metadata": {
    "hidden": true
   },
   "outputs": [],
   "source": [
    "player_salary11 = player_salary11.drop([11,22,33])"
   ]
  },
  {
   "cell_type": "code",
   "execution_count": null,
   "metadata": {
    "hidden": true
   },
   "outputs": [],
   "source": [
    "player_salary11"
   ]
  },
  {
   "cell_type": "markdown",
   "metadata": {
    "heading_collapsed": true,
    "hidden": true
   },
   "source": [
    "###### Scrap 441 - 480 Players"
   ]
  },
  {
   "cell_type": "code",
   "execution_count": null,
   "metadata": {
    "hidden": true
   },
   "outputs": [],
   "source": [
    "driver = webdriver.Chrome('/Users/josephrosas/Documents/2education/2_py/finalproject/chromedriver')\n",
    "\n",
    "driver.get('http://www.espn.com/nba/salaries/_/page/12/seasontype/3')\n",
    "time.sleep(3)"
   ]
  },
  {
   "cell_type": "code",
   "execution_count": null,
   "metadata": {
    "hidden": true,
    "scrolled": true
   },
   "outputs": [],
   "source": [
    "csv_file = open('playersalaries12.csv', 'w')\n",
    "writer = csv.writer(csv_file)\n",
    "writer.writerow(['RANK','NAME','TEAM','SALARY'])"
   ]
  },
  {
   "cell_type": "code",
   "execution_count": null,
   "metadata": {
    "hidden": true
   },
   "outputs": [],
   "source": [
    "salary = driver.find_elements_by_xpath('//*[@id=\"my-players-table\"]/div/div[2]/table/tbody/tr')"
   ]
  },
  {
   "cell_type": "code",
   "execution_count": null,
   "metadata": {
    "hidden": true
   },
   "outputs": [],
   "source": [
    "for sal in salary:\n",
    "    salary_dict = collections.OrderedDict()\n",
    "    Rank = sal.find_element_by_xpath('./td[1]').text\n",
    "    Name = sal.find_element_by_xpath('.//td[2]').text\n",
    "    Team = sal.find_element_by_xpath('.//td[3]').text\n",
    "    Salary = sal.find_element_by_xpath('.//td[4]').text\n",
    "    salary_dict.update({'RANK': Rank, 'NAME': Name, 'TEAM': Team, 'SALARY': Salary })\n",
    "    \n",
    "    writer.writerow(salary_dict.values())\n",
    "    \n",
    "csv_file.close()"
   ]
  },
  {
   "cell_type": "code",
   "execution_count": null,
   "metadata": {
    "hidden": true
   },
   "outputs": [],
   "source": [
    "player_salary12 = pd.read_csv('/Users/josephrosas/Documents/2education/2_py/finalproject/playersalaries12.csv')"
   ]
  },
  {
   "cell_type": "code",
   "execution_count": null,
   "metadata": {
    "hidden": true
   },
   "outputs": [],
   "source": [
    "player_salary12.head()"
   ]
  },
  {
   "cell_type": "code",
   "execution_count": null,
   "metadata": {
    "hidden": true
   },
   "outputs": [],
   "source": [
    "player_salary12 = player_salary12.drop([0])"
   ]
  },
  {
   "cell_type": "code",
   "execution_count": null,
   "metadata": {
    "hidden": true
   },
   "outputs": [],
   "source": [
    "player_salary12.head()"
   ]
  },
  {
   "cell_type": "code",
   "execution_count": null,
   "metadata": {
    "hidden": true
   },
   "outputs": [],
   "source": [
    "player_salary12['PLAYER'] = player_salary12['NAME'].str.rpartition(',')[0]\n",
    "player_salary12['POSITION'] = player_salary12['NAME'].str.rpartition(', ')[2].str.replace(\", \", \"\")\n",
    "player_salary12 = player_salary12[['RANK','PLAYER', 'POSITION','TEAM', 'SALARY']]"
   ]
  },
  {
   "cell_type": "code",
   "execution_count": null,
   "metadata": {
    "hidden": true
   },
   "outputs": [],
   "source": [
    "player_salary12 = player_salary12.drop([11,22,33])"
   ]
  },
  {
   "cell_type": "code",
   "execution_count": null,
   "metadata": {
    "hidden": true
   },
   "outputs": [],
   "source": [
    "player_salary12"
   ]
  },
  {
   "cell_type": "markdown",
   "metadata": {
    "heading_collapsed": true,
    "hidden": true
   },
   "source": [
    "###### Scrap 481 - 484 Players"
   ]
  },
  {
   "cell_type": "code",
   "execution_count": null,
   "metadata": {
    "hidden": true
   },
   "outputs": [],
   "source": [
    "driver = webdriver.Chrome('/Users/josephrosas/Documents/2education/2_py/finalproject/chromedriver')\n",
    "\n",
    "driver.get('http://www.espn.com/nba/salaries/_/page/13/seasontype/3')\n",
    "time.sleep(3)"
   ]
  },
  {
   "cell_type": "code",
   "execution_count": null,
   "metadata": {
    "hidden": true,
    "scrolled": true
   },
   "outputs": [],
   "source": [
    "csv_file = open('playersalaries13.csv', 'w')\n",
    "writer = csv.writer(csv_file)\n",
    "writer.writerow(['RANK','NAME','TEAM','SALARY'])"
   ]
  },
  {
   "cell_type": "code",
   "execution_count": null,
   "metadata": {
    "hidden": true
   },
   "outputs": [],
   "source": [
    "salary = driver.find_elements_by_xpath('//*[@id=\"my-players-table\"]/div/div[2]/table/tbody/tr')"
   ]
  },
  {
   "cell_type": "code",
   "execution_count": null,
   "metadata": {
    "hidden": true
   },
   "outputs": [],
   "source": [
    "for sal in salary:\n",
    "    salary_dict = collections.OrderedDict()\n",
    "    Rank = sal.find_element_by_xpath('./td[1]').text\n",
    "    Name = sal.find_element_by_xpath('.//td[2]').text\n",
    "    Team = sal.find_element_by_xpath('.//td[3]').text\n",
    "    Salary = sal.find_element_by_xpath('.//td[4]').text\n",
    "    salary_dict.update({'RANK': Rank, 'NAME': Name, 'TEAM': Team, 'SALARY': Salary })\n",
    "    \n",
    "    writer.writerow(salary_dict.values())\n",
    "    \n",
    "csv_file.close()"
   ]
  },
  {
   "cell_type": "code",
   "execution_count": null,
   "metadata": {
    "hidden": true
   },
   "outputs": [],
   "source": [
    "player_salary13 = pd.read_csv('/Users/josephrosas/Documents/2education/2_py/finalproject/playersalaries13.csv')"
   ]
  },
  {
   "cell_type": "code",
   "execution_count": null,
   "metadata": {
    "hidden": true
   },
   "outputs": [],
   "source": [
    "player_salary13.head()"
   ]
  },
  {
   "cell_type": "code",
   "execution_count": null,
   "metadata": {
    "hidden": true
   },
   "outputs": [],
   "source": [
    "player_salary13 = player_salary13.drop([0])"
   ]
  },
  {
   "cell_type": "code",
   "execution_count": null,
   "metadata": {
    "hidden": true
   },
   "outputs": [],
   "source": [
    "player_salary13.head()"
   ]
  },
  {
   "cell_type": "code",
   "execution_count": null,
   "metadata": {
    "hidden": true
   },
   "outputs": [],
   "source": [
    "player_salary13['PLAYER'] = player_salary13['NAME'].str.rpartition(',')[0]\n",
    "player_salary13['POSITION'] = player_salary13['NAME'].str.rpartition(', ')[2].str.replace(\", \", \"\")\n",
    "player_salary13 = player_salary13[['RANK','PLAYER', 'POSITION','TEAM', 'SALARY']]"
   ]
  },
  {
   "cell_type": "code",
   "execution_count": null,
   "metadata": {
    "hidden": true
   },
   "outputs": [],
   "source": [
    "#player_salary13 = player_salary13.drop([11,22,33])"
   ]
  },
  {
   "cell_type": "markdown",
   "metadata": {
    "heading_collapsed": true,
    "hidden": true
   },
   "source": [
    "### Join Salary DataFrames"
   ]
  },
  {
   "cell_type": "code",
   "execution_count": null,
   "metadata": {
    "hidden": true
   },
   "outputs": [],
   "source": [
    "salary_frames = [player_salary, player_salary2, player_salary3, player_salary4,\n",
    "                  player_salary5, player_salary6, player_salary7, player_salary8,\n",
    "                  player_salary9, player_salary10, player_salary11, player_salary12,player_salary13]"
   ]
  },
  {
   "cell_type": "code",
   "execution_count": null,
   "metadata": {
    "hidden": true
   },
   "outputs": [],
   "source": [
    "player_salaries = pd.concat(salary_frames)"
   ]
  },
  {
   "cell_type": "code",
   "execution_count": null,
   "metadata": {
    "hidden": true,
    "scrolled": true
   },
   "outputs": [],
   "source": [
    "player_salaries.head()"
   ]
  },
  {
   "cell_type": "markdown",
   "metadata": {
    "heading_collapsed": true
   },
   "source": [
    "# Initial Set-up Code [ non-efficient ]"
   ]
  },
  {
   "cell_type": "code",
   "execution_count": null,
   "metadata": {
    "hidden": true
   },
   "outputs": [],
   "source": [
    "from selenium import webdriver\n",
    "import pandas as pd\n",
    "import collections\n",
    "import time\n",
    "import csv\n",
    "import time\n",
    "import numpy as np\n",
    "\n",
    "# Import CSV Files\n",
    "player_stats = pd.read_csv('/Users/josephrosas/Documents/2education/2_py/finalproject/playerstats.csv')\n",
    "team_stats = pd.read_csv('/Users/josephrosas/Documents/2education/2_py/finalproject/teamstats.csv')\n",
    "team_stats = team_stats.drop(columns=['PF', 'PFD', '+/-'])\n",
    "player_details = pd.read_csv('/Users/josephrosas/Documents/2education/2_py/finalproject/playerdetails.csv', index_col=None)\n",
    "player_details['NAME'] = player_details['NAME'].str.replace('\\n', ' ')\n",
    "player_stats2 = player_stats.drop(columns=['PLAYER'])\n",
    "player_salary = pd.read_csv('/Users/josephrosas/Documents/2education/2_py/finalproject/playersalaries1.csv')\n",
    "player_salary = player_salary.drop([0])\n",
    "player_salary2 = pd.read_csv('/Users/josephrosas/Documents/2education/2_py/finalproject/playersalaries2.csv')\n",
    "player_salary3 = pd.read_csv('/Users/josephrosas/Documents/2education/2_py/finalproject/playersalaries3.csv')\n",
    "player_salary4 = pd.read_csv('/Users/josephrosas/Documents/2education/2_py/finalproject/playersalaries4.csv')\n",
    "player_salary5 = pd.read_csv('/Users/josephrosas/Documents/2education/2_py/finalproject/playersalaries5.csv')\n",
    "player_salary6 = pd.read_csv('/Users/josephrosas/Documents/2education/2_py/finalproject/playersalaries6.csv')\n",
    "player_salary7 = pd.read_csv('/Users/josephrosas/Documents/2education/2_py/finalproject/playersalaries7.csv')\n",
    "player_salary8 = pd.read_csv('/Users/josephrosas/Documents/2education/2_py/finalproject/playersalaries8.csv')\n",
    "player_salary9 = pd.read_csv('/Users/josephrosas/Documents/2education/2_py/finalproject/playersalaries9.csv')\n",
    "player_salary10 = pd.read_csv('/Users/josephrosas/Documents/2education/2_py/finalproject/playersalaries10.csv')\n",
    "player_salary11 = pd.read_csv('/Users/josephrosas/Documents/2education/2_py/finalproject/playersalaries11.csv')\n",
    "player_salary12 = pd.read_csv('/Users/josephrosas/Documents/2education/2_py/finalproject/playersalaries12.csv')\n",
    "player_salary13 = pd.read_csv('/Users/josephrosas/Documents/2education/2_py/finalproject/playersalaries13.csv')\n",
    "\n",
    "player_info = player_details.join(player_stats2)\n",
    "\n",
    "ah = player_info.query('TEAM==\"ATLANTA HAWKS\"')\n",
    "hawks = ah.drop(columns=['TEAM'])\n",
    "\n",
    "bc = player_info.query('TEAM==\"BOSTON CELTICS\"')\n",
    "celtics = bc.drop(columns=['TEAM'])\n",
    "\n",
    "bn = player_info.query('TEAM==\"BROOKLYN NETS\"')\n",
    "nets = bn.drop(columns=['TEAM'])\n",
    "\n",
    "ch = player_info.query('TEAM==\"CHARLOTTE HORNETS\"')\n",
    "hornets = ch.drop(columns=['TEAM'])\n",
    "\n",
    "cb = player_info.query('TEAM==\"CHICAGO BULLS\"')\n",
    "bulls = cb.drop(columns=['TEAM'])\n",
    "\n",
    "cc = player_info.query('TEAM==\"CLEVELAND CAVALIERS\"')\n",
    "cavaliers = cc.drop(columns=['TEAM'])\n",
    "\n",
    "dm = player_info.query('TEAM==\"DALLAS MAVERICKS\"')\n",
    "mavericks = dm.drop(columns=['TEAM'])\n",
    "\n",
    "dn = player_info.query('TEAM==\"DENVER NUGGETS\"')\n",
    "nuggets = dn.drop(columns=['TEAM'])\n",
    "\n",
    "dp = player_info.query('TEAM==\"DETROIT PISTONS\"')\n",
    "pistons = dp.drop(columns=['TEAM'])\n",
    "\n",
    "gtw = player_info.query('TEAM==\"GOLDEN STATE WARRIORS\"')\n",
    "warriors = gtw.drop(columns=['TEAM'])\n",
    "\n",
    "ip = player_info.query('TEAM==\"INDIANA PACERS\"')\n",
    "pacers = ip.drop(columns=['TEAM'])\n",
    "\n",
    "lc = player_info.query('TEAM==\"LA CLIPPERS\"')\n",
    "clippers = lc.drop(columns=['TEAM'])\n",
    "\n",
    "ll = player_info.query('TEAM==\"LOS ANGELES LAKERS\"')\n",
    "lakers = ll.drop(columns=['TEAM'])\n",
    "\n",
    "mg = player_info.query('TEAM==\"MEMPHIS GRIZZLIES\"')\n",
    "grizzlies = mg.drop(columns=['TEAM'])\n",
    "\n",
    "mh = player_info.query('TEAM==\"MIAMI HEAT\"')\n",
    "heat = mh.drop(columns=['TEAM'])\n",
    "\n",
    "mb = player_info.query('TEAM==\"MILWAUKEE BUCKS\"')\n",
    "bucks = mb.drop(columns=['TEAM'])\n",
    "\n",
    "mt = player_info.query('TEAM==\"MINNESOTA TIMBERWOLVES\"')\n",
    "timberwolves = mt.drop(columns=['TEAM'])\n",
    "\n",
    "nop = player_info.query('TEAM==\"NEW ORLEANS PELICANS\"')\n",
    "pelicans = nop.drop(columns=['TEAM'])\n",
    "\n",
    "nyk = player_info.query('TEAM==\"NEW YORK KNICKS\"')\n",
    "knicks = nyk.drop(columns=['TEAM'])\n",
    "\n",
    "ot = player_info.query('TEAM==\"OKLAHOMA CITY THUNDER\"')\n",
    "thunder = ot.drop(columns=['TEAM'])\n",
    "\n",
    "p7 = player_info.query('TEAM==\"PHILADELPHIA 76ERS\"')\n",
    "sixers = p7.drop(columns=['TEAM'])\n",
    "\n",
    "ps = player_info.query('TEAM==\"PHOENIX SUNS\"')\n",
    "suns = ps.drop(columns=['TEAM'])\n",
    "\n",
    "ptb = player_info.query('TEAM==\"PORTLAND TRAIL BLAZERS\"')\n",
    "blazers = ptb.drop(columns=['TEAM'])\n",
    "\n",
    "sk = player_info.query('TEAM==\"SACRAMENTO KINGS\"')\n",
    "kings = sk.drop(columns=['TEAM'])\n",
    "\n",
    "sas = player_info.query('TEAM==\"SAN ANTONIO SPURS\"')\n",
    "spurs = sas.drop(columns=['TEAM'])\n",
    "\n",
    "tr = player_info.query('TEAM==\"TORONTO RAPTORS\"')\n",
    "raptors = tr.drop(columns=['TEAM'])\n",
    "\n",
    "uj = player_info.query('TEAM==\"UTAH JAZZ\"')\n",
    "jazz = uj.drop(columns=['TEAM'])\n",
    "\n",
    "ww = player_info.query('TEAM==\"WASHINGTON WIZARDS\"')\n",
    "wizards = ww.drop(columns=['TEAM'])\n",
    "\n",
    "hr = player_info.query('TEAM==\"HOUSTON ROCKETS\"')\n",
    "rockets = hr.drop(columns=['TEAM'])\n",
    "\n",
    "om = player_info.query('TEAM==\"ORLANDO MAGIC\"')\n",
    "magic = om.drop(columns=['TEAM'])\n",
    "\n",
    "player_salary['PLAYER'] = player_salary['NAME'].str.rpartition(',')[0]\n",
    "player_salary['POSITION'] = player_salary['NAME'].str.rpartition(', ')[2].str.replace(\", \", \"\")\n",
    "player_salary = player_salary[['RANK','PLAYER', 'POSITION','TEAM', 'SALARY']]\n",
    "player_salary = player_salary.drop([11,22,33])\n",
    "\n",
    "player_salary2['PLAYER'] = player_salary2['NAME'].str.rpartition(',')[0]\n",
    "player_salary2['POSITION'] = player_salary2['NAME'].str.rpartition(', ')[2].str.replace(\", \", \"\")\n",
    "player_salary2 = player_salary2[['RANK','PLAYER', 'POSITION','TEAM', 'SALARY']]\n",
    "player_salary2 = player_salary2.drop([11,22,33])\n",
    "\n",
    "player_salary3['PLAYER'] = player_salary3['NAME'].str.rpartition(',')[0]\n",
    "player_salary3['POSITION'] = player_salary3['NAME'].str.rpartition(', ')[2].str.replace(\", \", \"\")\n",
    "player_salary3 = player_salary3[['RANK','PLAYER', 'POSITION','TEAM', 'SALARY']]\n",
    "player_salary3 = player_salary3.drop([11,22,33])\n",
    "\n",
    "player_salary4['PLAYER'] = player_salary4['NAME'].str.rpartition(',')[0]\n",
    "player_salary4['POSITION'] = player_salary4['NAME'].str.rpartition(', ')[2].str.replace(\", \", \"\")\n",
    "player_salary4 = player_salary4[['RANK','PLAYER', 'POSITION','TEAM', 'SALARY']]\n",
    "player_salary4 = player_salary4.drop([11,22,33])\n",
    "\n",
    "player_salary5['PLAYER'] = player_salary5['NAME'].str.rpartition(',')[0]\n",
    "player_salary5['POSITION'] = player_salary5['NAME'].str.rpartition(', ')[2].str.replace(\", \", \"\")\n",
    "player_salary5 = player_salary5[['RANK','PLAYER', 'POSITION','TEAM', 'SALARY']]\n",
    "player_salary5 = player_salary5.drop([11,22,33])\n",
    "\n",
    "player_salary6['PLAYER'] = player_salary6['NAME'].str.rpartition(',')[0]\n",
    "player_salary6['POSITION'] = player_salary6['NAME'].str.rpartition(', ')[2].str.replace(\", \", \"\")\n",
    "player_salary6 = player_salary6[['RANK','PLAYER', 'POSITION','TEAM', 'SALARY']]\n",
    "player_salary6 = player_salary6.drop([11,22,33])\n",
    "\n",
    "player_salary7['PLAYER'] = player_salary7['NAME'].str.rpartition(',')[0]\n",
    "player_salary7['POSITION'] = player_salary7['NAME'].str.rpartition(', ')[2].str.replace(\", \", \"\")\n",
    "player_salary7 = player_salary7[['RANK','PLAYER', 'POSITION','TEAM', 'SALARY']]\n",
    "player_salary7 = player_salary7.drop([11,22,33])\n",
    "\n",
    "player_salary8['PLAYER'] = player_salary8['NAME'].str.rpartition(',')[0]\n",
    "player_salary8['POSITION'] = player_salary8['NAME'].str.rpartition(', ')[2].str.replace(\", \", \"\")\n",
    "player_salary8 = player_salary8[['RANK','PLAYER', 'POSITION','TEAM', 'SALARY']]\n",
    "player_salary8 = player_salary8.drop([11,22,33])\n",
    "\n",
    "player_salary9['PLAYER'] = player_salary9['NAME'].str.rpartition(',')[0]\n",
    "player_salary9['POSITION'] = player_salary9['NAME'].str.rpartition(', ')[2].str.replace(\", \", \"\")\n",
    "player_salary9 = player_salary9[['RANK','PLAYER', 'POSITION','TEAM', 'SALARY']]\n",
    "player_salary9 = player_salary9.drop([11,22,33])\n",
    "\n",
    "player_salary10['PLAYER'] = player_salary10['NAME'].str.rpartition(',')[0]\n",
    "player_salary10['POSITION'] = player_salary10['NAME'].str.rpartition(', ')[2].str.replace(\", \", \"\")\n",
    "player_salary10 = player_salary10[['RANK','PLAYER', 'POSITION','TEAM', 'SALARY']]\n",
    "player_salary10 = player_salary10.drop([11,22,33])\n",
    "\n",
    "player_salary11['PLAYER'] = player_salary11['NAME'].str.rpartition(',')[0]\n",
    "player_salary11['POSITION'] = player_salary11['NAME'].str.rpartition(', ')[2].str.replace(\", \", \"\")\n",
    "player_salary11 = player_salary11[['RANK','PLAYER', 'POSITION','TEAM', 'SALARY']]\n",
    "player_salary11 = player_salary11.drop([11,22,33])\n",
    "\n",
    "player_salary12['PLAYER'] = player_salary12['NAME'].str.rpartition(',')[0]\n",
    "player_salary12['POSITION'] = player_salary12['NAME'].str.rpartition(', ')[2].str.replace(\", \", \"\")\n",
    "player_salary12 = player_salary12[['RANK','PLAYER', 'POSITION','TEAM', 'SALARY']]\n",
    "player_salary12 = player_salary12.drop([11,22,33])\n",
    "\n",
    "player_salary13['PLAYER'] = player_salary13['NAME'].str.rpartition(',')[0]\n",
    "player_salary13['POSITION'] = player_salary13['NAME'].str.rpartition(', ')[2].str.replace(\", \", \"\")\n",
    "player_salary13 = player_salary13[['RANK','PLAYER', 'POSITION','TEAM', 'SALARY']]\n",
    "player_salary13 = player_salary13.drop([0])\n",
    "\n",
    "#Combine DataFrames\n",
    "salary_frames = [player_salary, player_salary2, player_salary3, player_salary4,\n",
    "                  player_salary5, player_salary6, player_salary7, player_salary8,\n",
    "                  player_salary9, player_salary10, player_salary11, player_salary12,player_salary13]\n",
    "\n",
    "player_salaries = pd.concat(salary_frames)"
   ]
  }
 ],
 "metadata": {
  "kernelspec": {
   "display_name": "Python 3",
   "language": "python",
   "name": "python3"
  },
  "language_info": {
   "codemirror_mode": {
    "name": "ipython",
    "version": 3
   },
   "file_extension": ".py",
   "mimetype": "text/x-python",
   "name": "python",
   "nbconvert_exporter": "python",
   "pygments_lexer": "ipython3",
   "version": "3.6.4"
  }
 },
 "nbformat": 4,
 "nbformat_minor": 2
}
