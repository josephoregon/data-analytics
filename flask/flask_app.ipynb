{
 "cells": [
  {
   "cell_type": "markdown",
   "metadata": {},
   "source": [
    "# Flask App"
   ]
  },
  {
   "cell_type": "code",
   "execution_count": null,
   "metadata": {},
   "outputs": [],
   "source": [
    "from flask import Flask, render_template\n",
    "import datetime\n",
    "import pandas as pd\n",
    "import pymssql"
   ]
  },
  {
   "cell_type": "code",
   "execution_count": null,
   "metadata": {},
   "outputs": [],
   "source": [
    "app = Flask(__name__)"
   ]
  },
  {
   "cell_type": "code",
   "execution_count": null,
   "metadata": {},
   "outputs": [],
   "source": [
    "conn = pymssql.connect(\"mispython.database.windows.net\",\n",
    "                       \"josephoregon@mispython\", \"Saione11\", \"MIS_Python\")\n",
    "cur = conn.cursor()\n",
    "cur.execute(\"select @@VERSION\")"
   ]
  },
  {
   "cell_type": "code",
   "execution_count": null,
   "metadata": {},
   "outputs": [],
   "source": [
    "cur.execute(\"SELECT * FROM playerstats\")\n",
    "playerstats = cur.fetchall()\n",
    "playerstats = pd.DataFrame(playerstats)\n",
    "playerstats.head()"
   ]
  },
  {
   "cell_type": "markdown",
   "metadata": {},
   "source": [
    "## Flask Decorators"
   ]
  },
  {
   "cell_type": "code",
   "execution_count": null,
   "metadata": {},
   "outputs": [],
   "source": [
    "@app.template_filter()\n",
    "def datetimefilter(value, format='%Y/%m/%d %H:%M'):\n",
    "    \"\"\"convert a datetime to a different format.\"\"\"\n",
    "    return value.strftime(format)\n",
    "\n",
    "app.jinja_env.filters['datetimefilter'] = datetimefilter"
   ]
  },
  {
   "cell_type": "code",
   "execution_count": null,
   "metadata": {},
   "outputs": [],
   "source": [
    "@app.route(\"/\")\n",
    "def home():\n",
    "    return render_template(\n",
    "        'homepage.html',\n",
    "        title=\"Home\",\n",
    "        current_time=datetime.datetime.now())"
   ]
  },
  {
   "cell_type": "code",
   "execution_count": null,
   "metadata": {},
   "outputs": [],
   "source": [
    "@app.route(\"/about\")\n",
    "def about():\n",
    "    return render_template(\n",
    "        'about.html',\n",
    "        title=\"About\",\n",
    "        current_time=datetime.datetime.now())"
   ]
  },
  {
   "cell_type": "code",
   "execution_count": null,
   "metadata": {},
   "outputs": [],
   "source": [
    "@app.route(\"/projects\")\n",
    "def projects():\n",
    "    return render_template(\n",
    "        'projects.html',\n",
    "        title=\"My Projects\",\n",
    "        current_time=datetime.datetime.now())"
   ]
  },
  {
   "cell_type": "code",
   "execution_count": null,
   "metadata": {},
   "outputs": [],
   "source": [
    "@app.route(\"/playerstats\")\n",
    "def player_stats():\n",
    "\n",
    "    \n",
    "    return playerstats"
   ]
  },
  {
   "cell_type": "code",
   "execution_count": null,
   "metadata": {},
   "outputs": [],
   "source": [
    "@app.route(\"/contact\")\n",
    "def contact():\n",
    "    return render_template(\n",
    "        'contact.html',\n",
    "        title=\"Contact Us\",\n",
    "        current_time=datetime.datetime.now())"
   ]
  },
  {
   "cell_type": "code",
   "execution_count": null,
   "metadata": {
    "scrolled": true
   },
   "outputs": [],
   "source": [
    "if __name__ == '__main__':\n",
    "    app.run()"
   ]
  },
  {
   "cell_type": "code",
   "execution_count": null,
   "metadata": {},
   "outputs": [],
   "source": []
  },
  {
   "cell_type": "code",
   "execution_count": null,
   "metadata": {},
   "outputs": [],
   "source": []
  }
 ],
 "metadata": {
  "gist": {
   "data": {
    "description": "Documents/2education/2_py/finalproject/Flask App/flask_app.ipynb",
    "public": false
   },
   "id": ""
  },
  "kernelspec": {
   "display_name": "Python 3",
   "language": "python",
   "name": "python3"
  },
  "language_info": {
   "codemirror_mode": {
    "name": "ipython",
    "version": 3
   },
   "file_extension": ".py",
   "mimetype": "text/x-python",
   "name": "python",
   "nbconvert_exporter": "python",
   "pygments_lexer": "ipython3",
   "version": "3.6.4"
  }
 },
 "nbformat": 4,
 "nbformat_minor": 2
}
